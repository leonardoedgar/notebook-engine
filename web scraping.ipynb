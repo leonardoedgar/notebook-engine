{
 "cells": [
  {
   "cell_type": "code",
   "execution_count": 1,
   "metadata": {},
   "outputs": [],
   "source": [
    "from selenium import webdriver\n",
    "from selenium.webdriver.common.keys import Keys\n",
    "from selenium.webdriver.common.by import By\n",
    "from selenium.webdriver.support.ui import WebDriverWait\n",
    "from selenium.webdriver.support import expected_conditions as EC\n",
    "from tqdm import tqdm\n",
    "import pandas as pd"
   ]
  },
  {
   "cell_type": "code",
   "execution_count": 2,
   "metadata": {},
   "outputs": [],
   "source": [
    "path = r\"C:\\Users\\Wynonaraissa\\Documents\\MAFI 2017-2021\\SEMESTER 8\\CE9010\\chromedriver.exe\"\n",
    "driver = webdriver.Chrome(path)\n",
    "driver.get(\"https://www.carousell.sg/search/Laptop?\")"
   ]
  },
  {
   "cell_type": "code",
   "execution_count": 3,
   "metadata": {},
   "outputs": [],
   "source": [
    "driver.find_element_by_xpath('//*[@id=\"root\"]/div/div[3]/div/div[2]/div[1]/form/section/div[3]/div/div/label[2]/input').click()\n",
    "\n"
   ]
  },
  {
   "cell_type": "code",
   "execution_count": 50,
   "metadata": {},
   "outputs": [
    {
     "data": {
      "text/plain": [
       "'https://www.carousell.sg/p/buy-all-macbooks-laptops-imac-used-or-spoilt-faulty-and-new-1041463068/?t-id=W5J3uRLYql_1613402952417&t-referrer_browse_type=search_results&t-referrer_request_id=InycsLdf9daUTCM2&t-referrer_search_query=Laptop&t-referrer_sort_by=popular'"
      ]
     },
     "execution_count": 50,
     "metadata": {},
     "output_type": "execute_result"
    }
   ],
   "source": [
    "# prod=product_list[0]\n",
    "# prod1=prod.find_elements_by_tag_name('a')[-1]\n",
    "# prod1.get_property('href')"
   ]
  },
  {
   "cell_type": "code",
   "execution_count": 7,
   "metadata": {},
   "outputs": [],
   "source": [
    "list_of_links=[]\n",
    "for n in range(2):\n",
    "    product_list=driver.find_elements_by_class_name(\"D_px\")\n",
    "    for i in product_list:\n",
    "        prod1=i.find_elements_by_tag_name('a')[-1]\n",
    "        list_of_links.append(prod1.get_property('href'))\n",
    "    try:\n",
    "        driver.find_element_by_xpath('//*[@id=\"root\"]/div/div[3]/div/div[2]/main/div/button').click()\n",
    "    except:\n",
    "        print(\"error\")"
   ]
  },
  {
   "cell_type": "code",
   "execution_count": 8,
   "metadata": {},
   "outputs": [
    {
     "data": {
      "text/plain": [
       "['https://www.carousell.sg/p/asus-laptop-i7-8565u-1063749058/?t-id=HYA_yCD2eU_1613548238054&t-referrer_browse_type=search_results&t-referrer_filter_condition=USED&t-referrer_request_id=C8wzI4iururekV7S&t-referrer_search_query=Laptop&t-referrer_sort_by=popular',\n",
       " 'https://www.carousell.sg/p/12-5%E2%80%9D-dell-i5-6th-gen-touch-8gb-ram-ssd-slim-lightweight-laptop-1069948127/?t-id=HYA_yCD2eU_1613548238054&t-referrer_browse_type=search_results&t-referrer_filter_condition=USED&t-referrer_request_id=C8wzI4iururekV7S&t-referrer_search_query=Laptop&t-referrer_sort_by=popular',\n",
       " 'https://www.carousell.sg/p/factory-refurbished-lenovo-thinkpad-x250-business-laptop-1069928528/?t-id=HYA_yCD2eU_1613548238054&t-referrer_browse_type=search_results&t-referrer_filter_condition=USED&t-referrer_request_id=C8wzI4iururekV7S&t-referrer_search_query=Laptop&t-referrer_sort_by=popular',\n",
       " 'https://www.carousell.sg/p/factory-refurbished-lenovo-t460-touchscreen-business-laptop-1069926199/?t-id=HYA_yCD2eU_1613548238054&t-referrer_browse_type=search_results&t-referrer_filter_condition=USED&t-referrer_request_id=C8wzI4iururekV7S&t-referrer_search_query=Laptop&t-referrer_sort_by=popular',\n",
       " 'https://www.carousell.sg/p/asus-tuf-gaming-fx505-laptop-1069922442/?t-id=HYA_yCD2eU_1613548238054&t-referrer_browse_type=search_results&t-referrer_filter_condition=USED&t-referrer_request_id=C8wzI4iururekV7S&t-referrer_search_query=Laptop&t-referrer_sort_by=popular',\n",
       " 'https://www.carousell.sg/p/8th-gen-i7-lenovo-ideapad-laptop-14-inch-ultrabook-not-asus-zenbook-hp-pavilion-envy-acer-swift-dell-xps-surface-laptop-macbook-air-1069921226/?t-id=HYA_yCD2eU_1613548238054&t-referrer_browse_type=search_results&t-referrer_filter_condition=USED&t-referrer_request_id=C8wzI4iururekV7S&t-referrer_search_query=Laptop&t-referrer_sort_by=popular',\n",
       " 'https://www.carousell.sg/p/laptop-lenovo-thinkpad-t530-i7-1063770717/?t-id=HYA_yCD2eU_1613548238054&t-referrer_browse_type=search_results&t-referrer_filter_condition=USED&t-referrer_request_id=C8wzI4iururekV7S&t-referrer_search_query=Laptop&t-referrer_sort_by=popular',\n",
       " 'https://www.carousell.sg/p/hp-envy-13-laptop-i5-7th-gen-8gb-ram-512gb-ssd-1069916227/?t-id=HYA_yCD2eU_1613548238054&t-referrer_browse_type=search_results&t-referrer_filter_condition=USED&t-referrer_request_id=C8wzI4iururekV7S&t-referrer_search_query=Laptop&t-referrer_sort_by=popular',\n",
       " 'https://www.carousell.sg/p/buy-in-new-used-spoilt-macbooks-laptops-imac-1031253074/?t-id=HYA_yCD2eU_1613548238054&t-referrer_browse_type=search_results&t-referrer_filter_condition=USED&t-referrer_request_id=C8wzI4iururekV7S&t-referrer_search_query=Laptop&t-referrer_sort_by=popular',\n",
       " 'https://www.carousell.sg/p/microsoft-surface-laptop-go-touchscreen-8gb-ram-128gb-ssd-1069915769/?t-id=HYA_yCD2eU_1613548238054&t-referrer_browse_type=search_results&t-referrer_filter_condition=USED&t-referrer_request_id=C8wzI4iururekV7S&t-referrer_search_query=Laptop&t-referrer_sort_by=popular',\n",
       " 'https://www.carousell.sg/p/asus-vivobook-touchscreen-convertible-laptop-tablet-2-in-1-x360-not-hp-pavilion-envy-spectre-acer-spin-surface-go-macbook-air-surface-pro-1069914890/?t-id=HYA_yCD2eU_1613548238054&t-referrer_browse_type=search_results&t-referrer_filter_condition=USED&t-referrer_request_id=C8wzI4iururekV7S&t-referrer_search_query=Laptop&t-referrer_sort_by=popular',\n",
       " 'https://www.carousell.sg/p/hp-i7-gen3-gaming-laptop-semi-function-1069911080/?t-id=HYA_yCD2eU_1613548238054&t-referrer_browse_type=search_results&t-referrer_filter_condition=USED&t-referrer_request_id=C8wzI4iururekV7S&t-referrer_search_query=Laptop&t-referrer_sort_by=popular',\n",
       " 'https://www.carousell.sg/p/macbook-pro-17-laptop-1069905945/?t-id=HYA_yCD2eU_1613548238054&t-referrer_browse_type=search_results&t-referrer_filter_condition=USED&t-referrer_request_id=C8wzI4iururekV7S&t-referrer_search_query=Laptop&t-referrer_sort_by=popular',\n",
       " 'https://www.carousell.sg/p/buy-in-all-laptops-macbooks-imac-cpu-used-spoilt-new-1051885107/?t-id=HYA_yCD2eU_1613548238054&t-referrer_browse_type=search_results&t-referrer_filter_condition=USED&t-referrer_request_id=C8wzI4iururekV7S&t-referrer_search_query=Laptop&t-referrer_sort_by=popular',\n",
       " 'https://www.carousell.sg/p/original-samsung-laptop-bag-black-briefcase-carrier-backpack-case-1069901845/?t-id=HYA_yCD2eU_1613548238054&t-referrer_browse_type=search_results&t-referrer_filter_condition=USED&t-referrer_request_id=C8wzI4iururekV7S&t-referrer_search_query=Laptop&t-referrer_sort_by=popular',\n",
       " 'https://www.carousell.sg/p/toshiba-laptop-r30-a-core-i5-ram-8gb-hdd-750gb-1069900572/?t-id=HYA_yCD2eU_1613548238054&t-referrer_browse_type=search_results&t-referrer_filter_condition=USED&t-referrer_request_id=C8wzI4iururekV7S&t-referrer_search_query=Laptop&t-referrer_sort_by=popular',\n",
       " 'https://www.carousell.sg/p/dell-hardly-used-special-edition-powerful-and-lightweight-laptop-tablet-1069891447/?t-id=HYA_yCD2eU_1613548238054&t-referrer_browse_type=search_results&t-referrer_filter_condition=USED&t-referrer_request_id=C8wzI4iururekV7S&t-referrer_search_query=Laptop&t-referrer_sort_by=popular',\n",
       " 'https://www.carousell.sg/p/rental-rent-macbook-microsoft-lenovo-razer-%F0%9F%92%BB-while-repairing-laptops-%F0%9F%92%BB-1045324108/?t-id=HYA_yCD2eU_1613548238054&t-referrer_browse_type=search_results&t-referrer_filter_condition=USED&t-referrer_request_id=C8wzI4iururekV7S&t-referrer_search_query=Laptop&t-referrer_sort_by=popular',\n",
       " 'https://www.carousell.sg/p/we-buy-in-all-macbook-laptops-%EF%BC%8Cimac-used-or-spoilt-1039274399/?t-id=HYA_yCD2eU_1613548238054&t-referrer_browse_type=search_results&t-referrer_filter_condition=USED&t-referrer_request_id=C8wzI4iururekV7S&t-referrer_search_query=Laptop&t-referrer_sort_by=popular',\n",
       " 'https://www.carousell.sg/p/laptop-cooler-for-6-1069881975/?t-id=HYA_yCD2eU_1613548238054&t-referrer_browse_type=search_results&t-referrer_filter_condition=USED&t-referrer_request_id=C8wzI4iururekV7S&t-referrer_search_query=Laptop&t-referrer_sort_by=popular',\n",
       " 'https://www.carousell.sg/p/lenovo-i5-laptop-for-sell-14-inch-display-1069880806/?t-id=HYA_yCD2eU_1613548238054&t-referrer_browse_type=search_results&t-referrer_filter_condition=USED&t-referrer_request_id=C8wzI4iururekV7S&t-referrer_search_query=Laptop&t-referrer_sort_by=popular',\n",
       " 'https://www.carousell.sg/p/acer-i5-6267u-8gb-256gb-ssd-13-3-fhd-1-6kg-ultrabook-laptop-1069875258/?t-id=HYA_yCD2eU_1613548238054&t-referrer_browse_type=search_results&t-referrer_filter_condition=USED&t-referrer_request_id=C8wzI4iururekV7S&t-referrer_search_query=Laptop&t-referrer_sort_by=popular',\n",
       " 'https://www.carousell.sg/p/toshiba-core-i5-laptops-4th-gene-hard-disk-750gb-ram8gb-got-dvd-writer-hdmi-usb-port-camera-win10-pro-ms-office-already-installed-active-got-led-backlight-keyboard-nicely-alright-working-conditions-1069874498/?t-id=HYA_yCD2eU_1613548238054&t-referrer_browse_type=search_results&t-referrer_filter_condition=USED&t-referrer_request_id=C8wzI4iururekV7S&t-referrer_search_query=Laptop&t-referrer_sort_by=popular',\n",
       " 'https://www.carousell.sg/p/asus-laptop-i7-8565u-1063749058/?t-id=HYA_yCD2eU_1613548238054&t-referrer_browse_type=search_results&t-referrer_filter_condition=USED&t-referrer_request_id=C8wzI4iururekV7S&t-referrer_search_query=Laptop&t-referrer_sort_by=popular',\n",
       " 'https://www.carousell.sg/p/12-5%E2%80%9D-dell-i5-6th-gen-touch-8gb-ram-ssd-slim-lightweight-laptop-1069948127/?t-id=HYA_yCD2eU_1613548238054&t-referrer_browse_type=search_results&t-referrer_filter_condition=USED&t-referrer_request_id=C8wzI4iururekV7S&t-referrer_search_query=Laptop&t-referrer_sort_by=popular',\n",
       " 'https://www.carousell.sg/p/factory-refurbished-lenovo-thinkpad-x250-business-laptop-1069928528/?t-id=HYA_yCD2eU_1613548238054&t-referrer_browse_type=search_results&t-referrer_filter_condition=USED&t-referrer_request_id=C8wzI4iururekV7S&t-referrer_search_query=Laptop&t-referrer_sort_by=popular',\n",
       " 'https://www.carousell.sg/p/factory-refurbished-lenovo-t460-touchscreen-business-laptop-1069926199/?t-id=HYA_yCD2eU_1613548238054&t-referrer_browse_type=search_results&t-referrer_filter_condition=USED&t-referrer_request_id=C8wzI4iururekV7S&t-referrer_search_query=Laptop&t-referrer_sort_by=popular',\n",
       " 'https://www.carousell.sg/p/asus-tuf-gaming-fx505-laptop-1069922442/?t-id=HYA_yCD2eU_1613548238054&t-referrer_browse_type=search_results&t-referrer_filter_condition=USED&t-referrer_request_id=C8wzI4iururekV7S&t-referrer_search_query=Laptop&t-referrer_sort_by=popular',\n",
       " 'https://www.carousell.sg/p/8th-gen-i7-lenovo-ideapad-laptop-14-inch-ultrabook-not-asus-zenbook-hp-pavilion-envy-acer-swift-dell-xps-surface-laptop-macbook-air-1069921226/?t-id=HYA_yCD2eU_1613548238054&t-referrer_browse_type=search_results&t-referrer_filter_condition=USED&t-referrer_request_id=C8wzI4iururekV7S&t-referrer_search_query=Laptop&t-referrer_sort_by=popular',\n",
       " 'https://www.carousell.sg/p/laptop-lenovo-thinkpad-t530-i7-1063770717/?t-id=HYA_yCD2eU_1613548238054&t-referrer_browse_type=search_results&t-referrer_filter_condition=USED&t-referrer_request_id=C8wzI4iururekV7S&t-referrer_search_query=Laptop&t-referrer_sort_by=popular',\n",
       " 'https://www.carousell.sg/p/hp-envy-13-laptop-i5-7th-gen-8gb-ram-512gb-ssd-1069916227/?t-id=HYA_yCD2eU_1613548238054&t-referrer_browse_type=search_results&t-referrer_filter_condition=USED&t-referrer_request_id=C8wzI4iururekV7S&t-referrer_search_query=Laptop&t-referrer_sort_by=popular',\n",
       " 'https://www.carousell.sg/p/buy-in-new-used-spoilt-macbooks-laptops-imac-1031253074/?t-id=HYA_yCD2eU_1613548238054&t-referrer_browse_type=search_results&t-referrer_filter_condition=USED&t-referrer_request_id=vK4AXtMtwWCjSbmg&t-referrer_search_query=Laptop&t-referrer_sort_by=popular',\n",
       " 'https://www.carousell.sg/p/microsoft-surface-laptop-go-touchscreen-8gb-ram-128gb-ssd-1069915769/?t-id=HYA_yCD2eU_1613548238054&t-referrer_browse_type=search_results&t-referrer_filter_condition=USED&t-referrer_request_id=C8wzI4iururekV7S&t-referrer_search_query=Laptop&t-referrer_sort_by=popular',\n",
       " 'https://www.carousell.sg/p/asus-vivobook-touchscreen-convertible-laptop-tablet-2-in-1-x360-not-hp-pavilion-envy-spectre-acer-spin-surface-go-macbook-air-surface-pro-1069914890/?t-id=HYA_yCD2eU_1613548238054&t-referrer_browse_type=search_results&t-referrer_filter_condition=USED&t-referrer_request_id=C8wzI4iururekV7S&t-referrer_search_query=Laptop&t-referrer_sort_by=popular',\n",
       " 'https://www.carousell.sg/p/hp-i7-gen3-gaming-laptop-semi-function-1069911080/?t-id=HYA_yCD2eU_1613548238054&t-referrer_browse_type=search_results&t-referrer_filter_condition=USED&t-referrer_request_id=C8wzI4iururekV7S&t-referrer_search_query=Laptop&t-referrer_sort_by=popular',\n",
       " 'https://www.carousell.sg/p/macbook-pro-17-laptop-1069905945/?t-id=HYA_yCD2eU_1613548238054&t-referrer_browse_type=search_results&t-referrer_filter_condition=USED&t-referrer_request_id=C8wzI4iururekV7S&t-referrer_search_query=Laptop&t-referrer_sort_by=popular',\n",
       " 'https://www.carousell.sg/p/buy-in-all-laptops-macbooks-imac-cpu-used-spoilt-new-1051885107/?t-id=HYA_yCD2eU_1613548238054&t-referrer_browse_type=search_results&t-referrer_filter_condition=USED&t-referrer_request_id=vK4AXtMtwWCjSbmg&t-referrer_search_query=Laptop&t-referrer_sort_by=popular',\n",
       " 'https://www.carousell.sg/p/original-samsung-laptop-bag-black-briefcase-carrier-backpack-case-1069901845/?t-id=HYA_yCD2eU_1613548238054&t-referrer_browse_type=search_results&t-referrer_filter_condition=USED&t-referrer_request_id=C8wzI4iururekV7S&t-referrer_search_query=Laptop&t-referrer_sort_by=popular',\n",
       " 'https://www.carousell.sg/p/toshiba-laptop-r30-a-core-i5-ram-8gb-hdd-750gb-1069900572/?t-id=HYA_yCD2eU_1613548238054&t-referrer_browse_type=search_results&t-referrer_filter_condition=USED&t-referrer_request_id=C8wzI4iururekV7S&t-referrer_search_query=Laptop&t-referrer_sort_by=popular',\n",
       " 'https://www.carousell.sg/p/dell-hardly-used-special-edition-powerful-and-lightweight-laptop-tablet-1069891447/?t-id=HYA_yCD2eU_1613548238054&t-referrer_browse_type=search_results&t-referrer_filter_condition=USED&t-referrer_request_id=C8wzI4iururekV7S&t-referrer_search_query=Laptop&t-referrer_sort_by=popular',\n",
       " 'https://www.carousell.sg/p/rental-rent-macbook-microsoft-lenovo-razer-%F0%9F%92%BB-while-repairing-laptops-%F0%9F%92%BB-1045324108/?t-id=HYA_yCD2eU_1613548238054&t-referrer_browse_type=search_results&t-referrer_filter_condition=USED&t-referrer_request_id=C8wzI4iururekV7S&t-referrer_search_query=Laptop&t-referrer_sort_by=popular',\n",
       " 'https://www.carousell.sg/p/we-buy-in-all-macbook-laptops-%EF%BC%8Cimac-used-or-spoilt-1039274399/?t-id=HYA_yCD2eU_1613548238054&t-referrer_browse_type=search_results&t-referrer_filter_condition=USED&t-referrer_request_id=C8wzI4iururekV7S&t-referrer_search_query=Laptop&t-referrer_sort_by=popular',\n",
       " 'https://www.carousell.sg/p/laptop-cooler-for-6-1069881975/?t-id=HYA_yCD2eU_1613548238054&t-referrer_browse_type=search_results&t-referrer_filter_condition=USED&t-referrer_request_id=C8wzI4iururekV7S&t-referrer_search_query=Laptop&t-referrer_sort_by=popular',\n",
       " 'https://www.carousell.sg/p/lenovo-i5-laptop-for-sell-14-inch-display-1069880806/?t-id=HYA_yCD2eU_1613548238054&t-referrer_browse_type=search_results&t-referrer_filter_condition=USED&t-referrer_request_id=C8wzI4iururekV7S&t-referrer_search_query=Laptop&t-referrer_sort_by=popular',\n",
       " 'https://www.carousell.sg/p/acer-i5-6267u-8gb-256gb-ssd-13-3-fhd-1-6kg-ultrabook-laptop-1069875258/?t-id=HYA_yCD2eU_1613548238054&t-referrer_browse_type=search_results&t-referrer_filter_condition=USED&t-referrer_request_id=C8wzI4iururekV7S&t-referrer_search_query=Laptop&t-referrer_sort_by=popular',\n",
       " 'https://www.carousell.sg/p/toshiba-core-i5-laptops-4th-gene-hard-disk-750gb-ram8gb-got-dvd-writer-hdmi-usb-port-camera-win10-pro-ms-office-already-installed-active-got-led-backlight-keyboard-nicely-alright-working-conditions-1069874498/?t-id=HYA_yCD2eU_1613548238054&t-referrer_browse_type=search_results&t-referrer_filter_condition=USED&t-referrer_request_id=C8wzI4iururekV7S&t-referrer_search_query=Laptop&t-referrer_sort_by=popular']"
      ]
     },
     "execution_count": 8,
     "metadata": {},
     "output_type": "execute_result"
    }
   ],
   "source": [
    "list_of_links"
   ]
  },
  {
   "cell_type": "code",
   "execution_count": 9,
   "metadata": {},
   "outputs": [
    {
     "data": {
      "text/plain": [
       "46"
      ]
     },
     "execution_count": 9,
     "metadata": {},
     "output_type": "execute_result"
    }
   ],
   "source": [
    "len(list_of_links)"
   ]
  },
  {
   "cell_type": "code",
   "execution_count": 40,
   "metadata": {},
   "outputs": [],
   "source": [
    "# driver = webdriver.Chrome(path)\n",
    "# driver.get(list_of_links[-1])"
   ]
  },
  {
   "cell_type": "code",
   "execution_count": 10,
   "metadata": {},
   "outputs": [],
   "source": [
    "list_of_links2=list_of_links.copy()"
   ]
  },
  {
   "cell_type": "code",
   "execution_count": null,
   "metadata": {},
   "outputs": [],
   "source": []
  },
  {
   "cell_type": "code",
   "execution_count": 58,
   "metadata": {},
   "outputs": [],
   "source": [
    "# price=driver.find_element_by_xpath('//*[@id=\"root\"]/div/div[3]/div[1]/div/div[2]/div[2]/h2').text\n",
    "# name=driver.find_element_by_xpath('//*[@id=\"root\"]/div/div[3]/div[1]/div/div[2]/div[4]/h1').text\n",
    "# description=driver.find_element_by_xpath('//*[@id=\"root\"]/div/div[3]/div[1]/div/div[2]/section/div[1]/div[4]/div/div/div/p/p').text\n",
    "# review=driver.find_element_by_xpath('//*[@id=\"root\"]/div/div[3]/div[1]/div/div[2]/section/div[6]/div/div/div[4]/p').text\n",
    "price=driver.find_element_by_xpath('//*[@id=\"root\"]/div/div[3]/div[1]/div/div[2]/div[2]/h2').text\n",
    "title=driver.find_element_by_xpath('//*[@id=\"root\"]/div/div[3]/div[1]/div/div[2]/div[4]/h1').text\n",
    "description=driver.find_element_by_xpath('//*[@id=\"root\"]/div/div[3]/div[1]/div/div[2]/section/div[1]/div[4]/div/div/div/p/p').text\n",
    "review=driver.find_element_by_xpath('//*[@id=\"root\"]/div/div[3]/div[1]/div/div[2]/section/div[7]/div/div/div[4]/p').text\n",
    "num_review=driver.find_element_by_xpath('//*[@id=\"root\"]/div/div[3]/div[1]/div/div[2]/section/div[7]/div/div/div[5]/a/p').text"
   ]
  },
  {
   "cell_type": "code",
   "execution_count": 46,
   "metadata": {},
   "outputs": [],
   "source": [
    "# price=driver.find_elements_by_class_name(\"D_ug D_aY M_bg D_ba M_bi D_bn M_bu D_bq M_bx D_aW\")\n"
   ]
  },
  {
   "cell_type": "code",
   "execution_count": 59,
   "metadata": {},
   "outputs": [],
   "source": [
    "# items={'price':price,\n",
    "#       'title':title,\n",
    "#       'description':description,\n",
    "#       'review':review,\n",
    "#       'number_of_review':num_review,\n",
    "#       'product_link':}"
   ]
  },
  {
   "cell_type": "code",
   "execution_count": 60,
   "metadata": {},
   "outputs": [
    {
     "data": {
      "text/plain": [
       "{'price': 'S$418',\n",
       " 'title': 'Feb Promo Lenovo Thinkpad X Series Core i5 Laptop',\n",
       " 'description': 'Month Of February Promo\\n\\n■ Model: Lenovo Thinkpad X260\\n■ OS: Windows 10 Pro 64 Bit\\n■ Software: Microsoft Office 2019\\n■ CPU: Intel Core i5-6300u @ 2.40GHz \\n■ Memory : 4GB Ram\\n■ Hard Drive : 500GB @ 7200rpm\\n■ Screen: 12.5 inch  (1366x768)\\n■ GPU: Intel HD Graphic\\n■ Webcam\\n■ Battery 4 to 5 Hours ( Dual Battery) \\n■ Condition 9.5/10\\n■ Original Charger\\n\\nPromo: Comes with a laptop bag\\n\\nSelf collect ',\n",
       " 'review': 'Very fast deal (chat in the morning, received laptop in the afternoon) and seller was accommodative to my requests. He was really patient and responsive to my enquiries too!',\n",
       " 'number_of_review': 'Read all 551 reviews'}"
      ]
     },
     "execution_count": 60,
     "metadata": {},
     "output_type": "execute_result"
    }
   ],
   "source": [
    "# items"
   ]
  },
  {
   "cell_type": "code",
   "execution_count": 88,
   "metadata": {},
   "outputs": [
    {
     "name": "stderr",
     "output_type": "stream",
     "text": [
      "\n",
      "\n",
      "\n",
      "\n",
      "\n",
      "  0%|                                                                                          | 0/123 [00:00<?, ?it/s]\n",
      "\n",
      "\n",
      "\n",
      "\n",
      "  1%|▋                                                                               | 1/123 [00:37<1:17:04, 37.91s/it]\n",
      "\n",
      "\n",
      "\n",
      "\n",
      "  2%|█▎                                                                              | 2/123 [01:04<1:09:48, 34.61s/it]"
     ]
    },
    {
     "ename": "NoSuchElementException",
     "evalue": "Message: no such element: Unable to locate element: {\"method\":\"xpath\",\"selector\":\"//*[@id=\"root\"]/div/div[3]/div[1]/div/div[2]/section/div[1]/div[4]/div/div/div/p/p\"}\n  (Session info: chrome=88.0.4324.150)\n",
     "output_type": "error",
     "traceback": [
      "\u001b[1;31m---------------------------------------------------------------------------\u001b[0m",
      "\u001b[1;31mNoSuchElementException\u001b[0m                    Traceback (most recent call last)",
      "\u001b[1;32m<ipython-input-88-656c07e5df18>\u001b[0m in \u001b[0;36m<module>\u001b[1;34m\u001b[0m\n\u001b[0;32m      4\u001b[0m     \u001b[0mprice\u001b[0m\u001b[1;33m=\u001b[0m\u001b[0mdriver\u001b[0m\u001b[1;33m.\u001b[0m\u001b[0mfind_element_by_xpath\u001b[0m\u001b[1;33m(\u001b[0m\u001b[1;34m'//*[@id=\"root\"]/div/div[3]/div[1]/div/div[2]/div[2]/h2'\u001b[0m\u001b[1;33m)\u001b[0m\u001b[1;33m.\u001b[0m\u001b[0mtext\u001b[0m\u001b[1;33m\u001b[0m\u001b[1;33m\u001b[0m\u001b[0m\n\u001b[0;32m      5\u001b[0m     \u001b[0mtitle\u001b[0m\u001b[1;33m=\u001b[0m\u001b[0mdriver\u001b[0m\u001b[1;33m.\u001b[0m\u001b[0mfind_element_by_xpath\u001b[0m\u001b[1;33m(\u001b[0m\u001b[1;34m'//*[@id=\"root\"]/div/div[3]/div[1]/div/div[2]/div[4]/h1'\u001b[0m\u001b[1;33m)\u001b[0m\u001b[1;33m.\u001b[0m\u001b[0mtext\u001b[0m\u001b[1;33m\u001b[0m\u001b[1;33m\u001b[0m\u001b[0m\n\u001b[1;32m----> 6\u001b[1;33m     \u001b[0mdescription\u001b[0m\u001b[1;33m=\u001b[0m\u001b[0mdriver\u001b[0m\u001b[1;33m.\u001b[0m\u001b[0mfind_element_by_xpath\u001b[0m\u001b[1;33m(\u001b[0m\u001b[1;34m'//*[@id=\"root\"]/div/div[3]/div[1]/div/div[2]/section/div[1]/div[4]/div/div/div/p/p'\u001b[0m\u001b[1;33m)\u001b[0m\u001b[1;33m.\u001b[0m\u001b[0mtext\u001b[0m\u001b[1;33m\u001b[0m\u001b[1;33m\u001b[0m\u001b[0m\n\u001b[0m\u001b[0;32m      7\u001b[0m \u001b[1;31m#     review=driver.find_element_by_xpath('//*[@id=\"root\"]/div/div[3]/div[1]/div/div[2]/section/div[7]/div/div/div[4]/p').text\u001b[0m\u001b[1;33m\u001b[0m\u001b[1;33m\u001b[0m\u001b[1;33m\u001b[0m\u001b[0m\n\u001b[0;32m      8\u001b[0m \u001b[1;31m#     num_review=driver.find_element_by_xpath('//*[@id=\"root\"]/div/div[3]/div[1]/div/div[2]/section/div[7]/div/div/div[5]/a/p').text\u001b[0m\u001b[1;33m\u001b[0m\u001b[1;33m\u001b[0m\u001b[1;33m\u001b[0m\u001b[0m\n",
      "\u001b[1;32mC:\\ProgramData\\Anaconda3\\lib\\site-packages\\selenium\\webdriver\\remote\\webdriver.py\u001b[0m in \u001b[0;36mfind_element_by_xpath\u001b[1;34m(self, xpath)\u001b[0m\n\u001b[0;32m    392\u001b[0m             \u001b[0melement\u001b[0m \u001b[1;33m=\u001b[0m \u001b[0mdriver\u001b[0m\u001b[1;33m.\u001b[0m\u001b[0mfind_element_by_xpath\u001b[0m\u001b[1;33m(\u001b[0m\u001b[1;34m'//div/td[1]'\u001b[0m\u001b[1;33m)\u001b[0m\u001b[1;33m\u001b[0m\u001b[1;33m\u001b[0m\u001b[0m\n\u001b[0;32m    393\u001b[0m         \"\"\"\n\u001b[1;32m--> 394\u001b[1;33m         \u001b[1;32mreturn\u001b[0m \u001b[0mself\u001b[0m\u001b[1;33m.\u001b[0m\u001b[0mfind_element\u001b[0m\u001b[1;33m(\u001b[0m\u001b[0mby\u001b[0m\u001b[1;33m=\u001b[0m\u001b[0mBy\u001b[0m\u001b[1;33m.\u001b[0m\u001b[0mXPATH\u001b[0m\u001b[1;33m,\u001b[0m \u001b[0mvalue\u001b[0m\u001b[1;33m=\u001b[0m\u001b[0mxpath\u001b[0m\u001b[1;33m)\u001b[0m\u001b[1;33m\u001b[0m\u001b[1;33m\u001b[0m\u001b[0m\n\u001b[0m\u001b[0;32m    395\u001b[0m \u001b[1;33m\u001b[0m\u001b[0m\n\u001b[0;32m    396\u001b[0m     \u001b[1;32mdef\u001b[0m \u001b[0mfind_elements_by_xpath\u001b[0m\u001b[1;33m(\u001b[0m\u001b[0mself\u001b[0m\u001b[1;33m,\u001b[0m \u001b[0mxpath\u001b[0m\u001b[1;33m)\u001b[0m\u001b[1;33m:\u001b[0m\u001b[1;33m\u001b[0m\u001b[1;33m\u001b[0m\u001b[0m\n",
      "\u001b[1;32mC:\\ProgramData\\Anaconda3\\lib\\site-packages\\selenium\\webdriver\\remote\\webdriver.py\u001b[0m in \u001b[0;36mfind_element\u001b[1;34m(self, by, value)\u001b[0m\n\u001b[0;32m    976\u001b[0m         return self.execute(Command.FIND_ELEMENT, {\n\u001b[0;32m    977\u001b[0m             \u001b[1;34m'using'\u001b[0m\u001b[1;33m:\u001b[0m \u001b[0mby\u001b[0m\u001b[1;33m,\u001b[0m\u001b[1;33m\u001b[0m\u001b[1;33m\u001b[0m\u001b[0m\n\u001b[1;32m--> 978\u001b[1;33m             'value': value})['value']\n\u001b[0m\u001b[0;32m    979\u001b[0m \u001b[1;33m\u001b[0m\u001b[0m\n\u001b[0;32m    980\u001b[0m     \u001b[1;32mdef\u001b[0m \u001b[0mfind_elements\u001b[0m\u001b[1;33m(\u001b[0m\u001b[0mself\u001b[0m\u001b[1;33m,\u001b[0m \u001b[0mby\u001b[0m\u001b[1;33m=\u001b[0m\u001b[0mBy\u001b[0m\u001b[1;33m.\u001b[0m\u001b[0mID\u001b[0m\u001b[1;33m,\u001b[0m \u001b[0mvalue\u001b[0m\u001b[1;33m=\u001b[0m\u001b[1;32mNone\u001b[0m\u001b[1;33m)\u001b[0m\u001b[1;33m:\u001b[0m\u001b[1;33m\u001b[0m\u001b[1;33m\u001b[0m\u001b[0m\n",
      "\u001b[1;32mC:\\ProgramData\\Anaconda3\\lib\\site-packages\\selenium\\webdriver\\remote\\webdriver.py\u001b[0m in \u001b[0;36mexecute\u001b[1;34m(self, driver_command, params)\u001b[0m\n\u001b[0;32m    319\u001b[0m         \u001b[0mresponse\u001b[0m \u001b[1;33m=\u001b[0m \u001b[0mself\u001b[0m\u001b[1;33m.\u001b[0m\u001b[0mcommand_executor\u001b[0m\u001b[1;33m.\u001b[0m\u001b[0mexecute\u001b[0m\u001b[1;33m(\u001b[0m\u001b[0mdriver_command\u001b[0m\u001b[1;33m,\u001b[0m \u001b[0mparams\u001b[0m\u001b[1;33m)\u001b[0m\u001b[1;33m\u001b[0m\u001b[1;33m\u001b[0m\u001b[0m\n\u001b[0;32m    320\u001b[0m         \u001b[1;32mif\u001b[0m \u001b[0mresponse\u001b[0m\u001b[1;33m:\u001b[0m\u001b[1;33m\u001b[0m\u001b[1;33m\u001b[0m\u001b[0m\n\u001b[1;32m--> 321\u001b[1;33m             \u001b[0mself\u001b[0m\u001b[1;33m.\u001b[0m\u001b[0merror_handler\u001b[0m\u001b[1;33m.\u001b[0m\u001b[0mcheck_response\u001b[0m\u001b[1;33m(\u001b[0m\u001b[0mresponse\u001b[0m\u001b[1;33m)\u001b[0m\u001b[1;33m\u001b[0m\u001b[1;33m\u001b[0m\u001b[0m\n\u001b[0m\u001b[0;32m    322\u001b[0m             response['value'] = self._unwrap_value(\n\u001b[0;32m    323\u001b[0m                 response.get('value', None))\n",
      "\u001b[1;32mC:\\ProgramData\\Anaconda3\\lib\\site-packages\\selenium\\webdriver\\remote\\errorhandler.py\u001b[0m in \u001b[0;36mcheck_response\u001b[1;34m(self, response)\u001b[0m\n\u001b[0;32m    240\u001b[0m                 \u001b[0malert_text\u001b[0m \u001b[1;33m=\u001b[0m \u001b[0mvalue\u001b[0m\u001b[1;33m[\u001b[0m\u001b[1;34m'alert'\u001b[0m\u001b[1;33m]\u001b[0m\u001b[1;33m.\u001b[0m\u001b[0mget\u001b[0m\u001b[1;33m(\u001b[0m\u001b[1;34m'text'\u001b[0m\u001b[1;33m)\u001b[0m\u001b[1;33m\u001b[0m\u001b[1;33m\u001b[0m\u001b[0m\n\u001b[0;32m    241\u001b[0m             \u001b[1;32mraise\u001b[0m \u001b[0mexception_class\u001b[0m\u001b[1;33m(\u001b[0m\u001b[0mmessage\u001b[0m\u001b[1;33m,\u001b[0m \u001b[0mscreen\u001b[0m\u001b[1;33m,\u001b[0m \u001b[0mstacktrace\u001b[0m\u001b[1;33m,\u001b[0m \u001b[0malert_text\u001b[0m\u001b[1;33m)\u001b[0m\u001b[1;33m\u001b[0m\u001b[1;33m\u001b[0m\u001b[0m\n\u001b[1;32m--> 242\u001b[1;33m         \u001b[1;32mraise\u001b[0m \u001b[0mexception_class\u001b[0m\u001b[1;33m(\u001b[0m\u001b[0mmessage\u001b[0m\u001b[1;33m,\u001b[0m \u001b[0mscreen\u001b[0m\u001b[1;33m,\u001b[0m \u001b[0mstacktrace\u001b[0m\u001b[1;33m)\u001b[0m\u001b[1;33m\u001b[0m\u001b[1;33m\u001b[0m\u001b[0m\n\u001b[0m\u001b[0;32m    243\u001b[0m \u001b[1;33m\u001b[0m\u001b[0m\n\u001b[0;32m    244\u001b[0m     \u001b[1;32mdef\u001b[0m \u001b[0m_value_or_default\u001b[0m\u001b[1;33m(\u001b[0m\u001b[0mself\u001b[0m\u001b[1;33m,\u001b[0m \u001b[0mobj\u001b[0m\u001b[1;33m,\u001b[0m \u001b[0mkey\u001b[0m\u001b[1;33m,\u001b[0m \u001b[0mdefault\u001b[0m\u001b[1;33m)\u001b[0m\u001b[1;33m:\u001b[0m\u001b[1;33m\u001b[0m\u001b[1;33m\u001b[0m\u001b[0m\n",
      "\u001b[1;31mNoSuchElementException\u001b[0m: Message: no such element: Unable to locate element: {\"method\":\"xpath\",\"selector\":\"//*[@id=\"root\"]/div/div[3]/div[1]/div/div[2]/section/div[1]/div[4]/div/div/div/p/p\"}\n  (Session info: chrome=88.0.4324.150)\n"
     ]
    }
   ],
   "source": [
    "details=[]\n",
    "for i in tqdm(list_of_links):\n",
    "    driver.get(i)\n",
    "    price=driver.find_element_by_xpath('//*[@id=\"root\"]/div/div[3]/div[1]/div/div[2]/div[2]/h2').text\n",
    "    title=driver.find_element_by_class_name('D_up D_aY D_bg D_bn D_bq D_aX')\n",
    "#     title=driver.find_element_by_xpath('//*[@id=\"root\"]/div/div[3]/div[1]/div/div[2]/div[4]/h1').text\n",
    "#     description=driver.find_element_by_xpath('//*[@id=\"root\"]/div/div[3]/div[1]/div/div[2]/section/div[1]/div[4]/div/div/div/p/p').text\n",
    "#     review=driver.find_element_by_xpath('//*[@id=\"root\"]/div/div[3]/div[1]/div/div[2]/section/div[7]/div/div/div[4]/p').text\n",
    "#     num_review=driver.find_element_by_xpath('//*[@id=\"root\"]/div/div[3]/div[1]/div/div[2]/section/div[7]/div/div/div[5]/a/p').text\n",
    "    items={'price':price,\n",
    "      'title':title,\n",
    "#       'description':description,\n",
    "#       'review':review,\n",
    "#       'number_of_review':num_review,\n",
    "      'product_link':i}\n",
    "    details.append(items)"
   ]
  },
  {
   "cell_type": "code",
   "execution_count": 11,
   "metadata": {},
   "outputs": [
    {
     "name": "stderr",
     "output_type": "stream",
     "text": [
      "100%|██████████████████████████████████████████████████████████████████████████████████| 46/46 [03:42<00:00,  4.32s/it]\n"
     ]
    }
   ],
   "source": [
    "details=[]\n",
    "for i in tqdm(list_of_links):\n",
    "    driver.get(i)\n",
    "    for j in driver.find_elements_by_class_name(\"D_uf\"):\n",
    "        price=j.text.split('\\n')[0]\n",
    "    for k in driver.find_elements_by_class_name(\"D_uo\"):\n",
    "        title=k.text\n",
    "    \n",
    "\n",
    "\n",
    "#     price=driver.find_element_by_xpath('//*[@id=\"root\"]/div/div[3]/div[1]/div/div[2]/div[2]/h2').text\n",
    "#     title=driver.find_element_by_xpath('//*[@id=\"root\"]/div/div[3]/div[1]/div/div[2]/div[4]/h1').text\n",
    "#     description=driver.find_element_by_xpath('//*[@id=\"root\"]/div/div[3]/div[1]/div/div[2]/section/div[1]/div[4]/div/div/div/p/p').text\n",
    "#     review=driver.find_element_by_xpath('//*[@id=\"root\"]/div/div[3]/div[1]/div/div[2]/section/div[7]/div/div/div[4]/p').text\n",
    "#     num_review=driver.find_element_by_xpath('//*[@id=\"root\"]/div/div[3]/div[1]/div/div[2]/section/div[7]/div/div/div[5]/a/p').text\n",
    "    items={'price':price,\n",
    "       'title':title,\n",
    "#       'description':description,\n",
    "#       'review':review,\n",
    "#       'number_of_review':num_review,\n",
    "      'product_link':i}\n",
    "    details.append(items)"
   ]
  },
  {
   "cell_type": "code",
   "execution_count": null,
   "metadata": {},
   "outputs": [],
   "source": []
  },
  {
   "cell_type": "code",
   "execution_count": 28,
   "metadata": {},
   "outputs": [],
   "source": [
    "list_of_links2[0]\n",
    "driver.get(list_of_links2[25])"
   ]
  },
  {
   "cell_type": "code",
   "execution_count": 29,
   "metadata": {},
   "outputs": [
    {
     "name": "stdout",
     "output_type": "stream",
     "text": [
      "0 Funan\n",
      "1 Meetup · Carousell Protection\n",
      "2 Used\n",
      "3 Factory Refurbished: Lenovo ThinkPad X250 Business Laptop (Touchscreen)\n",
      "\n",
      "Processor: i5-5300U\n",
      "Ram: 8 GB\n",
      "Storage: 256 GB SSD\n",
      "Display: Touchscreen\n",
      "\n",
      "90 Days Warranty (Repair/Exchange)\n",
      "\n",
      "Enquiries: (WhatsApp: 98575037)\n",
      "4 3 hours ago In Laptops\n",
      "5 Ask your seller for delivery. Stay safe at home.\n",
      "6 Lenovo\n",
      "7 Carousell Protection powered by\n"
     ]
    },
    {
     "data": {
      "text/plain": [
       "[<selenium.webdriver.remote.webelement.WebElement (session=\"a28ae71a5cab17ab1271dbde16eb7806\", element=\"dd56795d-f6b0-4b3a-8e02-0364a8c6f64e\")>,\n",
       " <selenium.webdriver.remote.webelement.WebElement (session=\"a28ae71a5cab17ab1271dbde16eb7806\", element=\"a0ca46bb-bccb-4320-83b4-9af42769176d\")>,\n",
       " <selenium.webdriver.remote.webelement.WebElement (session=\"a28ae71a5cab17ab1271dbde16eb7806\", element=\"723f5785-78a4-4bf6-ba98-83b7affce64a\")>,\n",
       " <selenium.webdriver.remote.webelement.WebElement (session=\"a28ae71a5cab17ab1271dbde16eb7806\", element=\"002c5507-b0aa-4648-bd22-5736b1011cee\")>,\n",
       " <selenium.webdriver.remote.webelement.WebElement (session=\"a28ae71a5cab17ab1271dbde16eb7806\", element=\"923b5e17-da9e-4d46-9bcd-ca7e5a1c5604\")>,\n",
       " <selenium.webdriver.remote.webelement.WebElement (session=\"a28ae71a5cab17ab1271dbde16eb7806\", element=\"953679d7-46e4-437c-8812-0a2ea1dd93e0\")>,\n",
       " <selenium.webdriver.remote.webelement.WebElement (session=\"a28ae71a5cab17ab1271dbde16eb7806\", element=\"bcf60c9a-7413-4a8e-9c6c-500fa163993c\")>,\n",
       " <selenium.webdriver.remote.webelement.WebElement (session=\"a28ae71a5cab17ab1271dbde16eb7806\", element=\"3b7a016f-4060-49f5-b1fb-dee3a03c24c1\")>]"
      ]
     },
     "execution_count": 29,
     "metadata": {},
     "output_type": "execute_result"
    }
   ],
   "source": [
    "paragraph = driver.find_elements_by_class_name('D_ww')\n",
    "for i in range(len(paragraph)):\n",
    "    desc=paragraph[i].text\n",
    "    print(i, desc)\n",
    "paragraph"
   ]
  },
  {
   "cell_type": "code",
   "execution_count": 26,
   "metadata": {},
   "outputs": [
    {
     "data": {
      "text/plain": [
       "'Carousell Protection powered by'"
      ]
     },
     "execution_count": 26,
     "metadata": {},
     "output_type": "execute_result"
    }
   ],
   "source": [
    "for i in driver.find_elements_by_class_name(\"D_ww\"):\n",
    "    title=i.text\n",
    "title\n"
   ]
  },
  {
   "cell_type": "code",
   "execution_count": 146,
   "metadata": {},
   "outputs": [
    {
     "ename": "WebDriverException",
     "evalue": "Message: chrome not reachable\n  (Session info: chrome=88.0.4324.150)\n",
     "output_type": "error",
     "traceback": [
      "\u001b[1;31m---------------------------------------------------------------------------\u001b[0m",
      "\u001b[1;31mWebDriverException\u001b[0m                        Traceback (most recent call last)",
      "\u001b[1;32m<ipython-input-146-f2706c9d5312>\u001b[0m in \u001b[0;36m<module>\u001b[1;34m\u001b[0m\n\u001b[1;32m----> 1\u001b[1;33m \u001b[0mdriver\u001b[0m\u001b[1;33m.\u001b[0m\u001b[0mfind_elements_by_class_name\u001b[0m\u001b[1;33m(\u001b[0m\u001b[1;34m\"D_ee D_eo D_eq D_es D_ew D_ey D_e_ D_wB D_wC D_cZ\"\u001b[0m\u001b[1;33m)\u001b[0m\u001b[1;33m\u001b[0m\u001b[1;33m\u001b[0m\u001b[0m\n\u001b[0m",
      "\u001b[1;32mC:\\ProgramData\\Anaconda3\\lib\\site-packages\\selenium\\webdriver\\remote\\webdriver.py\u001b[0m in \u001b[0;36mfind_elements_by_class_name\u001b[1;34m(self, name)\u001b[0m\n\u001b[0;32m    578\u001b[0m             \u001b[0melements\u001b[0m \u001b[1;33m=\u001b[0m \u001b[0mdriver\u001b[0m\u001b[1;33m.\u001b[0m\u001b[0mfind_elements_by_class_name\u001b[0m\u001b[1;33m(\u001b[0m\u001b[1;34m'foo'\u001b[0m\u001b[1;33m)\u001b[0m\u001b[1;33m\u001b[0m\u001b[1;33m\u001b[0m\u001b[0m\n\u001b[0;32m    579\u001b[0m         \"\"\"\n\u001b[1;32m--> 580\u001b[1;33m         \u001b[1;32mreturn\u001b[0m \u001b[0mself\u001b[0m\u001b[1;33m.\u001b[0m\u001b[0mfind_elements\u001b[0m\u001b[1;33m(\u001b[0m\u001b[0mby\u001b[0m\u001b[1;33m=\u001b[0m\u001b[0mBy\u001b[0m\u001b[1;33m.\u001b[0m\u001b[0mCLASS_NAME\u001b[0m\u001b[1;33m,\u001b[0m \u001b[0mvalue\u001b[0m\u001b[1;33m=\u001b[0m\u001b[0mname\u001b[0m\u001b[1;33m)\u001b[0m\u001b[1;33m\u001b[0m\u001b[1;33m\u001b[0m\u001b[0m\n\u001b[0m\u001b[0;32m    581\u001b[0m \u001b[1;33m\u001b[0m\u001b[0m\n\u001b[0;32m    582\u001b[0m     \u001b[1;32mdef\u001b[0m \u001b[0mfind_element_by_css_selector\u001b[0m\u001b[1;33m(\u001b[0m\u001b[0mself\u001b[0m\u001b[1;33m,\u001b[0m \u001b[0mcss_selector\u001b[0m\u001b[1;33m)\u001b[0m\u001b[1;33m:\u001b[0m\u001b[1;33m\u001b[0m\u001b[1;33m\u001b[0m\u001b[0m\n",
      "\u001b[1;32mC:\\ProgramData\\Anaconda3\\lib\\site-packages\\selenium\\webdriver\\remote\\webdriver.py\u001b[0m in \u001b[0;36mfind_elements\u001b[1;34m(self, by, value)\u001b[0m\n\u001b[0;32m   1005\u001b[0m         return self.execute(Command.FIND_ELEMENTS, {\n\u001b[0;32m   1006\u001b[0m             \u001b[1;34m'using'\u001b[0m\u001b[1;33m:\u001b[0m \u001b[0mby\u001b[0m\u001b[1;33m,\u001b[0m\u001b[1;33m\u001b[0m\u001b[1;33m\u001b[0m\u001b[0m\n\u001b[1;32m-> 1007\u001b[1;33m             'value': value})['value'] or []\n\u001b[0m\u001b[0;32m   1008\u001b[0m \u001b[1;33m\u001b[0m\u001b[0m\n\u001b[0;32m   1009\u001b[0m     \u001b[1;33m@\u001b[0m\u001b[0mproperty\u001b[0m\u001b[1;33m\u001b[0m\u001b[1;33m\u001b[0m\u001b[0m\n",
      "\u001b[1;32mC:\\ProgramData\\Anaconda3\\lib\\site-packages\\selenium\\webdriver\\remote\\webdriver.py\u001b[0m in \u001b[0;36mexecute\u001b[1;34m(self, driver_command, params)\u001b[0m\n\u001b[0;32m    319\u001b[0m         \u001b[0mresponse\u001b[0m \u001b[1;33m=\u001b[0m \u001b[0mself\u001b[0m\u001b[1;33m.\u001b[0m\u001b[0mcommand_executor\u001b[0m\u001b[1;33m.\u001b[0m\u001b[0mexecute\u001b[0m\u001b[1;33m(\u001b[0m\u001b[0mdriver_command\u001b[0m\u001b[1;33m,\u001b[0m \u001b[0mparams\u001b[0m\u001b[1;33m)\u001b[0m\u001b[1;33m\u001b[0m\u001b[1;33m\u001b[0m\u001b[0m\n\u001b[0;32m    320\u001b[0m         \u001b[1;32mif\u001b[0m \u001b[0mresponse\u001b[0m\u001b[1;33m:\u001b[0m\u001b[1;33m\u001b[0m\u001b[1;33m\u001b[0m\u001b[0m\n\u001b[1;32m--> 321\u001b[1;33m             \u001b[0mself\u001b[0m\u001b[1;33m.\u001b[0m\u001b[0merror_handler\u001b[0m\u001b[1;33m.\u001b[0m\u001b[0mcheck_response\u001b[0m\u001b[1;33m(\u001b[0m\u001b[0mresponse\u001b[0m\u001b[1;33m)\u001b[0m\u001b[1;33m\u001b[0m\u001b[1;33m\u001b[0m\u001b[0m\n\u001b[0m\u001b[0;32m    322\u001b[0m             response['value'] = self._unwrap_value(\n\u001b[0;32m    323\u001b[0m                 response.get('value', None))\n",
      "\u001b[1;32mC:\\ProgramData\\Anaconda3\\lib\\site-packages\\selenium\\webdriver\\remote\\errorhandler.py\u001b[0m in \u001b[0;36mcheck_response\u001b[1;34m(self, response)\u001b[0m\n\u001b[0;32m    240\u001b[0m                 \u001b[0malert_text\u001b[0m \u001b[1;33m=\u001b[0m \u001b[0mvalue\u001b[0m\u001b[1;33m[\u001b[0m\u001b[1;34m'alert'\u001b[0m\u001b[1;33m]\u001b[0m\u001b[1;33m.\u001b[0m\u001b[0mget\u001b[0m\u001b[1;33m(\u001b[0m\u001b[1;34m'text'\u001b[0m\u001b[1;33m)\u001b[0m\u001b[1;33m\u001b[0m\u001b[1;33m\u001b[0m\u001b[0m\n\u001b[0;32m    241\u001b[0m             \u001b[1;32mraise\u001b[0m \u001b[0mexception_class\u001b[0m\u001b[1;33m(\u001b[0m\u001b[0mmessage\u001b[0m\u001b[1;33m,\u001b[0m \u001b[0mscreen\u001b[0m\u001b[1;33m,\u001b[0m \u001b[0mstacktrace\u001b[0m\u001b[1;33m,\u001b[0m \u001b[0malert_text\u001b[0m\u001b[1;33m)\u001b[0m\u001b[1;33m\u001b[0m\u001b[1;33m\u001b[0m\u001b[0m\n\u001b[1;32m--> 242\u001b[1;33m         \u001b[1;32mraise\u001b[0m \u001b[0mexception_class\u001b[0m\u001b[1;33m(\u001b[0m\u001b[0mmessage\u001b[0m\u001b[1;33m,\u001b[0m \u001b[0mscreen\u001b[0m\u001b[1;33m,\u001b[0m \u001b[0mstacktrace\u001b[0m\u001b[1;33m)\u001b[0m\u001b[1;33m\u001b[0m\u001b[1;33m\u001b[0m\u001b[0m\n\u001b[0m\u001b[0;32m    243\u001b[0m \u001b[1;33m\u001b[0m\u001b[0m\n\u001b[0;32m    244\u001b[0m     \u001b[1;32mdef\u001b[0m \u001b[0m_value_or_default\u001b[0m\u001b[1;33m(\u001b[0m\u001b[0mself\u001b[0m\u001b[1;33m,\u001b[0m \u001b[0mobj\u001b[0m\u001b[1;33m,\u001b[0m \u001b[0mkey\u001b[0m\u001b[1;33m,\u001b[0m \u001b[0mdefault\u001b[0m\u001b[1;33m)\u001b[0m\u001b[1;33m:\u001b[0m\u001b[1;33m\u001b[0m\u001b[1;33m\u001b[0m\u001b[0m\n",
      "\u001b[1;31mWebDriverException\u001b[0m: Message: chrome not reachable\n  (Session info: chrome=88.0.4324.150)\n"
     ]
    }
   ],
   "source": [
    "driver.find_elements_by_class_name(\"D_ee D_eo D_eq D_es D_ew D_ey D_e_ D_wB D_wC D_cZ\")"
   ]
  },
  {
   "cell_type": "code",
   "execution_count": 12,
   "metadata": {},
   "outputs": [],
   "source": [
    "data_carousell=pd.DataFrame(details)"
   ]
  },
  {
   "cell_type": "code",
   "execution_count": 13,
   "metadata": {},
   "outputs": [
    {
     "data": {
      "text/html": [
       "<div>\n",
       "<style scoped>\n",
       "    .dataframe tbody tr th:only-of-type {\n",
       "        vertical-align: middle;\n",
       "    }\n",
       "\n",
       "    .dataframe tbody tr th {\n",
       "        vertical-align: top;\n",
       "    }\n",
       "\n",
       "    .dataframe thead th {\n",
       "        text-align: right;\n",
       "    }\n",
       "</style>\n",
       "<table border=\"1\" class=\"dataframe\">\n",
       "  <thead>\n",
       "    <tr style=\"text-align: right;\">\n",
       "      <th></th>\n",
       "      <th>price</th>\n",
       "      <th>title</th>\n",
       "      <th>product_link</th>\n",
       "    </tr>\n",
       "  </thead>\n",
       "  <tbody>\n",
       "    <tr>\n",
       "      <th>0</th>\n",
       "      <td>S$800</td>\n",
       "      <td>Asus Laptop i7 -8565U</td>\n",
       "      <td>https://www.carousell.sg/p/asus-laptop-i7-8565...</td>\n",
       "    </tr>\n",
       "    <tr>\n",
       "      <th>1</th>\n",
       "      <td>S$520</td>\n",
       "      <td>12.5” Dell i5 6th Gen (Touch)+ 8GB RAM + SSD (...</td>\n",
       "      <td>https://www.carousell.sg/p/12-5%E2%80%9D-dell-...</td>\n",
       "    </tr>\n",
       "    <tr>\n",
       "      <th>2</th>\n",
       "      <td>S$599</td>\n",
       "      <td>Factory Refurbished: Lenovo ThinkPad X250 Busi...</td>\n",
       "      <td>https://www.carousell.sg/p/factory-refurbished...</td>\n",
       "    </tr>\n",
       "    <tr>\n",
       "      <th>3</th>\n",
       "      <td>S$799</td>\n",
       "      <td>Factory Refurbished: Lenovo T460 (Touchscreen)...</td>\n",
       "      <td>https://www.carousell.sg/p/factory-refurbished...</td>\n",
       "    </tr>\n",
       "    <tr>\n",
       "      <th>4</th>\n",
       "      <td>S$900</td>\n",
       "      <td>ASUS TUF GAMING FX505 Laptop</td>\n",
       "      <td>https://www.carousell.sg/p/asus-tuf-gaming-fx5...</td>\n",
       "    </tr>\n",
       "    <tr>\n",
       "      <th>5</th>\n",
       "      <td>S$609</td>\n",
       "      <td>8th gen i7 lenovo ideapad laptop 14 inch ultra...</td>\n",
       "      <td>https://www.carousell.sg/p/8th-gen-i7-lenovo-i...</td>\n",
       "    </tr>\n",
       "    <tr>\n",
       "      <th>6</th>\n",
       "      <td>S$318</td>\n",
       "      <td>Laptop Lenovo - ThinkPad T530 - i7</td>\n",
       "      <td>https://www.carousell.sg/p/laptop-lenovo-think...</td>\n",
       "    </tr>\n",
       "    <tr>\n",
       "      <th>7</th>\n",
       "      <td>S$490</td>\n",
       "      <td>HP Envy 13 Laptop i5 7th Gen, 8GB RAM 512GB SSD</td>\n",
       "      <td>https://www.carousell.sg/p/hp-envy-13-laptop-i...</td>\n",
       "    </tr>\n",
       "    <tr>\n",
       "      <th>8</th>\n",
       "      <td>S$2,900</td>\n",
       "      <td>Buy in new,used,spoilt Macbooks &amp; laptops ,iMac</td>\n",
       "      <td>https://www.carousell.sg/p/buy-in-new-used-spo...</td>\n",
       "    </tr>\n",
       "    <tr>\n",
       "      <th>9</th>\n",
       "      <td>S$850</td>\n",
       "      <td>Microsoft surface laptop go (touchscreen) 8gb ...</td>\n",
       "      <td>https://www.carousell.sg/p/microsoft-surface-l...</td>\n",
       "    </tr>\n",
       "    <tr>\n",
       "      <th>10</th>\n",
       "      <td>S$299</td>\n",
       "      <td>Asus Vivobook touchscreen convertible laptop t...</td>\n",
       "      <td>https://www.carousell.sg/p/asus-vivobook-touch...</td>\n",
       "    </tr>\n",
       "    <tr>\n",
       "      <th>11</th>\n",
       "      <td>S$149</td>\n",
       "      <td>HP i7 Gen3 Gaming Laptop (Semi Function)</td>\n",
       "      <td>https://www.carousell.sg/p/hp-i7-gen3-gaming-l...</td>\n",
       "    </tr>\n",
       "    <tr>\n",
       "      <th>12</th>\n",
       "      <td>S$450</td>\n",
       "      <td>Macbook Pro 17\" laptop</td>\n",
       "      <td>https://www.carousell.sg/p/macbook-pro-17-lapt...</td>\n",
       "    </tr>\n",
       "    <tr>\n",
       "      <th>13</th>\n",
       "      <td>S$3,390</td>\n",
       "      <td>Buy in all laptops,MacBooks iMac,cpu used/spoi...</td>\n",
       "      <td>https://www.carousell.sg/p/buy-in-all-laptops-...</td>\n",
       "    </tr>\n",
       "    <tr>\n",
       "      <th>14</th>\n",
       "      <td>S$8</td>\n",
       "      <td>Original Samsung Laptop Bag Black Briefcase Ca...</td>\n",
       "      <td>https://www.carousell.sg/p/original-samsung-la...</td>\n",
       "    </tr>\n",
       "    <tr>\n",
       "      <th>15</th>\n",
       "      <td>S$400</td>\n",
       "      <td>Toshiba laptop R30-A core i5 Ram 8gb hdd 750gb</td>\n",
       "      <td>https://www.carousell.sg/p/toshiba-laptop-r30-...</td>\n",
       "    </tr>\n",
       "    <tr>\n",
       "      <th>16</th>\n",
       "      <td>S$690</td>\n",
       "      <td>Dell HARDLY USED  SPECIAL EDITION POWERFUL and...</td>\n",
       "      <td>https://www.carousell.sg/p/dell-hardly-used-sp...</td>\n",
       "    </tr>\n",
       "    <tr>\n",
       "      <th>17</th>\n",
       "      <td>S$2</td>\n",
       "      <td>(Rental / Rent) Macbook/Microsoft/Lenovo/Razer...</td>\n",
       "      <td>https://www.carousell.sg/p/rental-rent-macbook...</td>\n",
       "    </tr>\n",
       "    <tr>\n",
       "      <th>18</th>\n",
       "      <td>S$2,800</td>\n",
       "      <td>We buy in all macbook,laptops ，iMac used or sp...</td>\n",
       "      <td>https://www.carousell.sg/p/we-buy-in-all-macbo...</td>\n",
       "    </tr>\n",
       "    <tr>\n",
       "      <th>19</th>\n",
       "      <td>S$6</td>\n",
       "      <td>Laptop cooler for $6</td>\n",
       "      <td>https://www.carousell.sg/p/laptop-cooler-for-6...</td>\n",
       "    </tr>\n",
       "    <tr>\n",
       "      <th>20</th>\n",
       "      <td>S$140</td>\n",
       "      <td>Lenovo i5 laptop for sell 14 inch display</td>\n",
       "      <td>https://www.carousell.sg/p/lenovo-i5-laptop-fo...</td>\n",
       "    </tr>\n",
       "    <tr>\n",
       "      <th>21</th>\n",
       "      <td>S$380</td>\n",
       "      <td>Acer i5-6267U/8GB/256GB SSD/13.3\" FHD/1.6KG Ul...</td>\n",
       "      <td>https://www.carousell.sg/p/acer-i5-6267u-8gb-2...</td>\n",
       "    </tr>\n",
       "    <tr>\n",
       "      <th>22</th>\n",
       "      <td>S$390</td>\n",
       "      <td>Toshiba core i5 laptops 4th gene hard disk 750...</td>\n",
       "      <td>https://www.carousell.sg/p/toshiba-core-i5-lap...</td>\n",
       "    </tr>\n",
       "    <tr>\n",
       "      <th>23</th>\n",
       "      <td>S$800</td>\n",
       "      <td>Asus Laptop i7 -8565U</td>\n",
       "      <td>https://www.carousell.sg/p/asus-laptop-i7-8565...</td>\n",
       "    </tr>\n",
       "    <tr>\n",
       "      <th>24</th>\n",
       "      <td>S$520</td>\n",
       "      <td>12.5” Dell i5 6th Gen (Touch)+ 8GB RAM + SSD (...</td>\n",
       "      <td>https://www.carousell.sg/p/12-5%E2%80%9D-dell-...</td>\n",
       "    </tr>\n",
       "    <tr>\n",
       "      <th>25</th>\n",
       "      <td>S$599</td>\n",
       "      <td>Factory Refurbished: Lenovo ThinkPad X250 Busi...</td>\n",
       "      <td>https://www.carousell.sg/p/factory-refurbished...</td>\n",
       "    </tr>\n",
       "    <tr>\n",
       "      <th>26</th>\n",
       "      <td>S$799</td>\n",
       "      <td>Factory Refurbished: Lenovo T460 (Touchscreen)...</td>\n",
       "      <td>https://www.carousell.sg/p/factory-refurbished...</td>\n",
       "    </tr>\n",
       "    <tr>\n",
       "      <th>27</th>\n",
       "      <td>S$900</td>\n",
       "      <td>ASUS TUF GAMING FX505 Laptop</td>\n",
       "      <td>https://www.carousell.sg/p/asus-tuf-gaming-fx5...</td>\n",
       "    </tr>\n",
       "    <tr>\n",
       "      <th>28</th>\n",
       "      <td>S$609</td>\n",
       "      <td>8th gen i7 lenovo ideapad laptop 14 inch ultra...</td>\n",
       "      <td>https://www.carousell.sg/p/8th-gen-i7-lenovo-i...</td>\n",
       "    </tr>\n",
       "    <tr>\n",
       "      <th>29</th>\n",
       "      <td>S$318</td>\n",
       "      <td>Laptop Lenovo - ThinkPad T530 - i7</td>\n",
       "      <td>https://www.carousell.sg/p/laptop-lenovo-think...</td>\n",
       "    </tr>\n",
       "    <tr>\n",
       "      <th>30</th>\n",
       "      <td>S$490</td>\n",
       "      <td>HP Envy 13 Laptop i5 7th Gen, 8GB RAM 512GB SSD</td>\n",
       "      <td>https://www.carousell.sg/p/hp-envy-13-laptop-i...</td>\n",
       "    </tr>\n",
       "    <tr>\n",
       "      <th>31</th>\n",
       "      <td>S$2,900</td>\n",
       "      <td>Buy in new,used,spoilt Macbooks &amp; laptops ,iMac</td>\n",
       "      <td>https://www.carousell.sg/p/buy-in-new-used-spo...</td>\n",
       "    </tr>\n",
       "    <tr>\n",
       "      <th>32</th>\n",
       "      <td>S$850</td>\n",
       "      <td>Microsoft surface laptop go (touchscreen) 8gb ...</td>\n",
       "      <td>https://www.carousell.sg/p/microsoft-surface-l...</td>\n",
       "    </tr>\n",
       "    <tr>\n",
       "      <th>33</th>\n",
       "      <td>S$299</td>\n",
       "      <td>Asus Vivobook touchscreen convertible laptop t...</td>\n",
       "      <td>https://www.carousell.sg/p/asus-vivobook-touch...</td>\n",
       "    </tr>\n",
       "    <tr>\n",
       "      <th>34</th>\n",
       "      <td>S$149</td>\n",
       "      <td>HP i7 Gen3 Gaming Laptop (Semi Function)</td>\n",
       "      <td>https://www.carousell.sg/p/hp-i7-gen3-gaming-l...</td>\n",
       "    </tr>\n",
       "    <tr>\n",
       "      <th>35</th>\n",
       "      <td>S$450</td>\n",
       "      <td>Macbook Pro 17\" laptop</td>\n",
       "      <td>https://www.carousell.sg/p/macbook-pro-17-lapt...</td>\n",
       "    </tr>\n",
       "    <tr>\n",
       "      <th>36</th>\n",
       "      <td>S$3,390</td>\n",
       "      <td>Buy in all laptops,MacBooks iMac,cpu used/spoi...</td>\n",
       "      <td>https://www.carousell.sg/p/buy-in-all-laptops-...</td>\n",
       "    </tr>\n",
       "    <tr>\n",
       "      <th>37</th>\n",
       "      <td>S$8</td>\n",
       "      <td>Original Samsung Laptop Bag Black Briefcase Ca...</td>\n",
       "      <td>https://www.carousell.sg/p/original-samsung-la...</td>\n",
       "    </tr>\n",
       "    <tr>\n",
       "      <th>38</th>\n",
       "      <td>S$400</td>\n",
       "      <td>Toshiba laptop R30-A core i5 Ram 8gb hdd 750gb</td>\n",
       "      <td>https://www.carousell.sg/p/toshiba-laptop-r30-...</td>\n",
       "    </tr>\n",
       "    <tr>\n",
       "      <th>39</th>\n",
       "      <td>S$690</td>\n",
       "      <td>Dell HARDLY USED  SPECIAL EDITION POWERFUL and...</td>\n",
       "      <td>https://www.carousell.sg/p/dell-hardly-used-sp...</td>\n",
       "    </tr>\n",
       "    <tr>\n",
       "      <th>40</th>\n",
       "      <td>S$2</td>\n",
       "      <td>(Rental / Rent) Macbook/Microsoft/Lenovo/Razer...</td>\n",
       "      <td>https://www.carousell.sg/p/rental-rent-macbook...</td>\n",
       "    </tr>\n",
       "    <tr>\n",
       "      <th>41</th>\n",
       "      <td>S$2,800</td>\n",
       "      <td>We buy in all macbook,laptops ，iMac used or sp...</td>\n",
       "      <td>https://www.carousell.sg/p/we-buy-in-all-macbo...</td>\n",
       "    </tr>\n",
       "    <tr>\n",
       "      <th>42</th>\n",
       "      <td>S$6</td>\n",
       "      <td>Laptop cooler for $6</td>\n",
       "      <td>https://www.carousell.sg/p/laptop-cooler-for-6...</td>\n",
       "    </tr>\n",
       "    <tr>\n",
       "      <th>43</th>\n",
       "      <td>S$140</td>\n",
       "      <td>Lenovo i5 laptop for sell 14 inch display</td>\n",
       "      <td>https://www.carousell.sg/p/lenovo-i5-laptop-fo...</td>\n",
       "    </tr>\n",
       "    <tr>\n",
       "      <th>44</th>\n",
       "      <td>S$380</td>\n",
       "      <td>Acer i5-6267U/8GB/256GB SSD/13.3\" FHD/1.6KG Ul...</td>\n",
       "      <td>https://www.carousell.sg/p/acer-i5-6267u-8gb-2...</td>\n",
       "    </tr>\n",
       "    <tr>\n",
       "      <th>45</th>\n",
       "      <td>S$390</td>\n",
       "      <td>Toshiba core i5 laptops 4th gene hard disk 750...</td>\n",
       "      <td>https://www.carousell.sg/p/toshiba-core-i5-lap...</td>\n",
       "    </tr>\n",
       "  </tbody>\n",
       "</table>\n",
       "</div>"
      ],
      "text/plain": [
       "      price                                              title  \\\n",
       "0     S$800                              Asus Laptop i7 -8565U   \n",
       "1     S$520  12.5” Dell i5 6th Gen (Touch)+ 8GB RAM + SSD (...   \n",
       "2     S$599  Factory Refurbished: Lenovo ThinkPad X250 Busi...   \n",
       "3     S$799  Factory Refurbished: Lenovo T460 (Touchscreen)...   \n",
       "4     S$900                       ASUS TUF GAMING FX505 Laptop   \n",
       "5     S$609  8th gen i7 lenovo ideapad laptop 14 inch ultra...   \n",
       "6     S$318                 Laptop Lenovo - ThinkPad T530 - i7   \n",
       "7     S$490    HP Envy 13 Laptop i5 7th Gen, 8GB RAM 512GB SSD   \n",
       "8   S$2,900    Buy in new,used,spoilt Macbooks & laptops ,iMac   \n",
       "9     S$850  Microsoft surface laptop go (touchscreen) 8gb ...   \n",
       "10    S$299  Asus Vivobook touchscreen convertible laptop t...   \n",
       "11    S$149           HP i7 Gen3 Gaming Laptop (Semi Function)   \n",
       "12    S$450                             Macbook Pro 17\" laptop   \n",
       "13  S$3,390  Buy in all laptops,MacBooks iMac,cpu used/spoi...   \n",
       "14      S$8  Original Samsung Laptop Bag Black Briefcase Ca...   \n",
       "15    S$400     Toshiba laptop R30-A core i5 Ram 8gb hdd 750gb   \n",
       "16    S$690  Dell HARDLY USED  SPECIAL EDITION POWERFUL and...   \n",
       "17      S$2  (Rental / Rent) Macbook/Microsoft/Lenovo/Razer...   \n",
       "18  S$2,800  We buy in all macbook,laptops ，iMac used or sp...   \n",
       "19      S$6                               Laptop cooler for $6   \n",
       "20    S$140          Lenovo i5 laptop for sell 14 inch display   \n",
       "21    S$380  Acer i5-6267U/8GB/256GB SSD/13.3\" FHD/1.6KG Ul...   \n",
       "22    S$390  Toshiba core i5 laptops 4th gene hard disk 750...   \n",
       "23    S$800                              Asus Laptop i7 -8565U   \n",
       "24    S$520  12.5” Dell i5 6th Gen (Touch)+ 8GB RAM + SSD (...   \n",
       "25    S$599  Factory Refurbished: Lenovo ThinkPad X250 Busi...   \n",
       "26    S$799  Factory Refurbished: Lenovo T460 (Touchscreen)...   \n",
       "27    S$900                       ASUS TUF GAMING FX505 Laptop   \n",
       "28    S$609  8th gen i7 lenovo ideapad laptop 14 inch ultra...   \n",
       "29    S$318                 Laptop Lenovo - ThinkPad T530 - i7   \n",
       "30    S$490    HP Envy 13 Laptop i5 7th Gen, 8GB RAM 512GB SSD   \n",
       "31  S$2,900    Buy in new,used,spoilt Macbooks & laptops ,iMac   \n",
       "32    S$850  Microsoft surface laptop go (touchscreen) 8gb ...   \n",
       "33    S$299  Asus Vivobook touchscreen convertible laptop t...   \n",
       "34    S$149           HP i7 Gen3 Gaming Laptop (Semi Function)   \n",
       "35    S$450                             Macbook Pro 17\" laptop   \n",
       "36  S$3,390  Buy in all laptops,MacBooks iMac,cpu used/spoi...   \n",
       "37      S$8  Original Samsung Laptop Bag Black Briefcase Ca...   \n",
       "38    S$400     Toshiba laptop R30-A core i5 Ram 8gb hdd 750gb   \n",
       "39    S$690  Dell HARDLY USED  SPECIAL EDITION POWERFUL and...   \n",
       "40      S$2  (Rental / Rent) Macbook/Microsoft/Lenovo/Razer...   \n",
       "41  S$2,800  We buy in all macbook,laptops ，iMac used or sp...   \n",
       "42      S$6                               Laptop cooler for $6   \n",
       "43    S$140          Lenovo i5 laptop for sell 14 inch display   \n",
       "44    S$380  Acer i5-6267U/8GB/256GB SSD/13.3\" FHD/1.6KG Ul...   \n",
       "45    S$390  Toshiba core i5 laptops 4th gene hard disk 750...   \n",
       "\n",
       "                                         product_link  \n",
       "0   https://www.carousell.sg/p/asus-laptop-i7-8565...  \n",
       "1   https://www.carousell.sg/p/12-5%E2%80%9D-dell-...  \n",
       "2   https://www.carousell.sg/p/factory-refurbished...  \n",
       "3   https://www.carousell.sg/p/factory-refurbished...  \n",
       "4   https://www.carousell.sg/p/asus-tuf-gaming-fx5...  \n",
       "5   https://www.carousell.sg/p/8th-gen-i7-lenovo-i...  \n",
       "6   https://www.carousell.sg/p/laptop-lenovo-think...  \n",
       "7   https://www.carousell.sg/p/hp-envy-13-laptop-i...  \n",
       "8   https://www.carousell.sg/p/buy-in-new-used-spo...  \n",
       "9   https://www.carousell.sg/p/microsoft-surface-l...  \n",
       "10  https://www.carousell.sg/p/asus-vivobook-touch...  \n",
       "11  https://www.carousell.sg/p/hp-i7-gen3-gaming-l...  \n",
       "12  https://www.carousell.sg/p/macbook-pro-17-lapt...  \n",
       "13  https://www.carousell.sg/p/buy-in-all-laptops-...  \n",
       "14  https://www.carousell.sg/p/original-samsung-la...  \n",
       "15  https://www.carousell.sg/p/toshiba-laptop-r30-...  \n",
       "16  https://www.carousell.sg/p/dell-hardly-used-sp...  \n",
       "17  https://www.carousell.sg/p/rental-rent-macbook...  \n",
       "18  https://www.carousell.sg/p/we-buy-in-all-macbo...  \n",
       "19  https://www.carousell.sg/p/laptop-cooler-for-6...  \n",
       "20  https://www.carousell.sg/p/lenovo-i5-laptop-fo...  \n",
       "21  https://www.carousell.sg/p/acer-i5-6267u-8gb-2...  \n",
       "22  https://www.carousell.sg/p/toshiba-core-i5-lap...  \n",
       "23  https://www.carousell.sg/p/asus-laptop-i7-8565...  \n",
       "24  https://www.carousell.sg/p/12-5%E2%80%9D-dell-...  \n",
       "25  https://www.carousell.sg/p/factory-refurbished...  \n",
       "26  https://www.carousell.sg/p/factory-refurbished...  \n",
       "27  https://www.carousell.sg/p/asus-tuf-gaming-fx5...  \n",
       "28  https://www.carousell.sg/p/8th-gen-i7-lenovo-i...  \n",
       "29  https://www.carousell.sg/p/laptop-lenovo-think...  \n",
       "30  https://www.carousell.sg/p/hp-envy-13-laptop-i...  \n",
       "31  https://www.carousell.sg/p/buy-in-new-used-spo...  \n",
       "32  https://www.carousell.sg/p/microsoft-surface-l...  \n",
       "33  https://www.carousell.sg/p/asus-vivobook-touch...  \n",
       "34  https://www.carousell.sg/p/hp-i7-gen3-gaming-l...  \n",
       "35  https://www.carousell.sg/p/macbook-pro-17-lapt...  \n",
       "36  https://www.carousell.sg/p/buy-in-all-laptops-...  \n",
       "37  https://www.carousell.sg/p/original-samsung-la...  \n",
       "38  https://www.carousell.sg/p/toshiba-laptop-r30-...  \n",
       "39  https://www.carousell.sg/p/dell-hardly-used-sp...  \n",
       "40  https://www.carousell.sg/p/rental-rent-macbook...  \n",
       "41  https://www.carousell.sg/p/we-buy-in-all-macbo...  \n",
       "42  https://www.carousell.sg/p/laptop-cooler-for-6...  \n",
       "43  https://www.carousell.sg/p/lenovo-i5-laptop-fo...  \n",
       "44  https://www.carousell.sg/p/acer-i5-6267u-8gb-2...  \n",
       "45  https://www.carousell.sg/p/toshiba-core-i5-lap...  "
      ]
     },
     "execution_count": 13,
     "metadata": {},
     "output_type": "execute_result"
    }
   ],
   "source": [
    "data_carousell"
   ]
  },
  {
   "cell_type": "code",
   "execution_count": 164,
   "metadata": {},
   "outputs": [],
   "source": [
    "data_carousell.to_csv('data_carousell.csv')"
   ]
  }
 ],
 "metadata": {
  "kernelspec": {
   "display_name": "Python 3",
   "language": "python",
   "name": "python3"
  },
  "language_info": {
   "codemirror_mode": {
    "name": "ipython",
    "version": 3
   },
   "file_extension": ".py",
   "mimetype": "text/x-python",
   "name": "python",
   "nbconvert_exporter": "python",
   "pygments_lexer": "ipython3",
   "version": "3.7.3"
  }
 },
 "nbformat": 4,
 "nbformat_minor": 2
}
