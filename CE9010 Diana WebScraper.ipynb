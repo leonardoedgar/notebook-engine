{
 "cells": [
  {
   "cell_type": "code",
   "execution_count": 7,
   "metadata": {},
   "outputs": [],
   "source": [
    "# Import all necessary libraries and modules - excluding libraries for uploading files to drive\n",
    "# libraries for uploading files to drive can be found in section 10\n",
    "import time\n",
    "from datetime import datetime\n",
    "from datetime import date\n",
    "from selenium import webdriver\n",
    "from selenium.webdriver.support.ui import WebDriverWait\n",
    "from selenium.webdriver.support import expected_conditions as EC\n",
    "from selenium.webdriver.common.by import By\n",
    "from selenium.common.exceptions import TimeoutException\n",
    "from selenium.common.exceptions import NoSuchElementException\n",
    "import json\n",
    "import pandas as pd\n",
    "import numpy as np\n",
    "import re"
   ]
  },
  {
   "cell_type": "code",
   "execution_count": 37,
   "metadata": {},
   "outputs": [
    {
     "name": "stderr",
     "output_type": "stream",
     "text": [
      "C:\\Users\\diana.suwanto\\Anaconda3\\lib\\site-packages\\ipykernel_launcher.py:4: DeprecationWarning: use options instead of chrome_options\n",
      "  after removing the cwd from sys.path.\n"
     ]
    }
   ],
   "source": [
    "options = webdriver.ChromeOptions()\n",
    "options.add_argument(\"--start-maximized\")\n",
    "\n",
    "driver = webdriver.Chrome(chrome_options=options)\n",
    "driver.get('https://www.electronicscrazy.sg/refurbished-items/laptops/')\n",
    "wait = WebDriverWait(driver, 30)"
   ]
  },
  {
   "cell_type": "code",
   "execution_count": 38,
   "metadata": {},
   "outputs": [],
   "source": [
    "# get all links in the first page\n",
    "links = driver.find_elements_by_class_name('product-title')\n",
    "all_link_list = []\n",
    "\n",
    "for link in links:\n",
    "    all_link_list.append(link.get_attribute('href'))\n",
    "\n",
    "# go to the second page\n",
    "next_button = wait.until(EC.presence_of_element_located((By.XPATH, '//*[@id=\"pagination_contents\"]/div[4]/div/a[2]/i')))\n",
    "next_button.click()\n",
    "\n",
    "time.sleep(2)\n",
    "# get all links in the second page\n",
    "links_2 = driver.find_elements_by_class_name('product-title')\n",
    "\n",
    "for link in links_2:\n",
    "    all_link_list.append(link.get_attribute('href'))"
   ]
  },
  {
   "cell_type": "code",
   "execution_count": 19,
   "metadata": {},
   "outputs": [],
   "source": [
    "# all_link_list"
   ]
  },
  {
   "cell_type": "code",
   "execution_count": 39,
   "metadata": {},
   "outputs": [
    {
     "data": {
      "text/plain": [
       "83"
      ]
     },
     "execution_count": 39,
     "metadata": {},
     "output_type": "execute_result"
    }
   ],
   "source": [
    "len(all_link_list)"
   ]
  },
  {
   "cell_type": "code",
   "execution_count": 48,
   "metadata": {},
   "outputs": [
    {
     "name": "stdout",
     "output_type": "stream",
     "text": [
      "67\n",
      "Visited 83 links and recorded the data in a dictionary: items_dict. Time taken: 231.16252541542053 s.\n"
     ]
    },
    {
     "data": {
      "text/plain": [
       "{'title': '(certified refurbished) acer travelmate p248-m 14-inch laptop - intel core i5-6200u cpu @2.30ghz/ 8gb ram/ 480gb ssd/ windows 10 pro',\n",
       " 'price': '450.00',\n",
       " 'brand': 'acer',\n",
       " 'resolution': '1366 x 768',\n",
       " 'screen size': '14 inches',\n",
       " 'model': 'travelmate p248-m',\n",
       " 'operating system': 'windows os',\n",
       " 'processor': 'intel core i5-6200u',\n",
       " 'processor speed': '2.3 ghz',\n",
       " 'ram': '8 gb',\n",
       " 'warranty': '1 month',\n",
       " 'link': 'https://www.electronicscrazy.sg/certified-refurbished-acer-travelmate-p248-m-14-inch-laptop-intel-core-i5-6200u-cpu-2.30ghz-8gb-ram-480gb-ssd-windows-10-pro/',\n",
       " 'description': 'certified refurbished from ec and high quality\\neconomical price\\nsold and shipped from singapore (hence faster delivery, easy to exchange)\\n1 month warranty\\n\\nspecifications:\\nbrand: acer\\nmodel: travelmate p248-m\\ndisplay: 14-inch\\nprocessor/ chipset: intel core i5-6200u/ 2.30 ghz\\nmemory: 8gb ram\\nstorage: 480gb ssd\\noperating system: windows 10 pro\\nresolution: 1366 x 768 (hd)\\nlcd backlight technology: led backlight\\nwidescreen display: yes\\ninterfaces: usb 2.0, hdmi, vga, lan, 2 x usb 3.0, headphone/ microphone combo jack\\nmemory card reader: yes (sd card)\\n\\naudio & video:\\ngraphics processor: intel hd graphics 520\\nmemory allocation technology: shared video memory (uma)\\nintegrated webcam: yes\\nsound: microphone'}"
      ]
     },
     "execution_count": 48,
     "metadata": {},
     "output_type": "execute_result"
    }
   ],
   "source": [
    "start = time.time()\n",
    "items_dict = {}\n",
    "\n",
    "for i in range(len(all_link_list)):\n",
    "    driver.get(all_link_list[i])\n",
    "\n",
    "    title = driver.find_element_by_xpath('//*[@id=\"tygh_main_container\"]/div[3]/div[1]/div[2]/div[1]/div[1]/div[1]/div[2]/form/h1/bdi').text.lower()\n",
    "    price = driver.find_elements_by_class_name('ty-price-num')\n",
    "    # the first element is \"S$\"\", the second element is the real dollar value\n",
    "    price = price[1].text\n",
    "\n",
    "    items_dict.update({i: {'title': title, \n",
    "                           'price': price}})\n",
    "\n",
    "    features_label = driver.find_elements_by_class_name('ty-product-feature__label')\n",
    "    features_value = driver.find_elements_by_class_name('ty-product-feature__value')\n",
    "\n",
    "    for j in range(len(features_label)):\n",
    "        label = (features_label[j].text)[:-1].lower()\n",
    "        value = features_value[j].text.lower()\n",
    "        items_dict[i][label] = value\n",
    "\n",
    "    items_dict[i]['link'] = all_link_list[i]\n",
    "    try:\n",
    "        items_dict[i]['description'] = driver.find_element_by_xpath('//*[@id=\"content_description\"]/div/ul').text.lower()\n",
    "    except NoSuchElementException:\n",
    "        print(i)\n",
    "        items_dict[i]['description'] = driver.find_element_by_xpath('//*[@id=\"content_description\"]/div/p[1]').text.lower() + \\\n",
    "                                        driver.find_element_by_xpath('//*[@id=\"content_description\"]/div/p[2]').text.lower()\n",
    "\n",
    "driver.quit()\n",
    "end = time.time()\n",
    "print(f'Visited {len(all_link_list)} links and recorded the data in a dictionary: items_dict. Time taken: {end-start} s.')\n",
    "items_dict[0]"
   ]
  },
  {
   "cell_type": "code",
   "execution_count": 49,
   "metadata": {},
   "outputs": [
    {
     "data": {
      "text/html": [
       "<div>\n",
       "<style scoped>\n",
       "    .dataframe tbody tr th:only-of-type {\n",
       "        vertical-align: middle;\n",
       "    }\n",
       "\n",
       "    .dataframe tbody tr th {\n",
       "        vertical-align: top;\n",
       "    }\n",
       "\n",
       "    .dataframe thead th {\n",
       "        text-align: right;\n",
       "    }\n",
       "</style>\n",
       "<table border=\"1\" class=\"dataframe\">\n",
       "  <thead>\n",
       "    <tr style=\"text-align: right;\">\n",
       "      <th></th>\n",
       "      <th>title</th>\n",
       "      <th>price</th>\n",
       "      <th>brand</th>\n",
       "      <th>resolution</th>\n",
       "      <th>screen size</th>\n",
       "      <th>model</th>\n",
       "      <th>operating system</th>\n",
       "      <th>processor</th>\n",
       "      <th>processor speed</th>\n",
       "      <th>ram</th>\n",
       "      <th>...</th>\n",
       "      <th>storage</th>\n",
       "      <th>color</th>\n",
       "      <th>product dimensions</th>\n",
       "      <th>version</th>\n",
       "      <th>package included</th>\n",
       "      <th>usb</th>\n",
       "      <th>bt version</th>\n",
       "      <th>product code</th>\n",
       "      <th>chipset</th>\n",
       "      <th>batteries</th>\n",
       "    </tr>\n",
       "  </thead>\n",
       "  <tbody>\n",
       "    <tr>\n",
       "      <th>0</th>\n",
       "      <td>(certified refurbished) acer travelmate p248-m...</td>\n",
       "      <td>450.00</td>\n",
       "      <td>acer</td>\n",
       "      <td>1366 x 768</td>\n",
       "      <td>14 inches</td>\n",
       "      <td>travelmate p248-m</td>\n",
       "      <td>windows os</td>\n",
       "      <td>intel core i5-6200u</td>\n",
       "      <td>2.3 ghz</td>\n",
       "      <td>8 gb</td>\n",
       "      <td>...</td>\n",
       "      <td>NaN</td>\n",
       "      <td>NaN</td>\n",
       "      <td>NaN</td>\n",
       "      <td>NaN</td>\n",
       "      <td>NaN</td>\n",
       "      <td>NaN</td>\n",
       "      <td>NaN</td>\n",
       "      <td>NaN</td>\n",
       "      <td>NaN</td>\n",
       "      <td>NaN</td>\n",
       "    </tr>\n",
       "    <tr>\n",
       "      <th>1</th>\n",
       "      <td>(certified refurbished) apple macbook pro 13.3...</td>\n",
       "      <td>1,230.00</td>\n",
       "      <td>apple</td>\n",
       "      <td>2560 x 1600</td>\n",
       "      <td>13.3 inches</td>\n",
       "      <td>NaN</td>\n",
       "      <td>mac os</td>\n",
       "      <td>intel core i5-4278u</td>\n",
       "      <td>NaN</td>\n",
       "      <td>16gb ddr3</td>\n",
       "      <td>...</td>\n",
       "      <td>NaN</td>\n",
       "      <td>NaN</td>\n",
       "      <td>NaN</td>\n",
       "      <td>NaN</td>\n",
       "      <td>NaN</td>\n",
       "      <td>NaN</td>\n",
       "      <td>NaN</td>\n",
       "      <td>NaN</td>\n",
       "      <td>NaN</td>\n",
       "      <td>NaN</td>\n",
       "    </tr>\n",
       "    <tr>\n",
       "      <th>2</th>\n",
       "      <td>(certified refurbished) dell latitude e5440 co...</td>\n",
       "      <td>370.00</td>\n",
       "      <td>dell</td>\n",
       "      <td>1366 x 768</td>\n",
       "      <td>14 inches</td>\n",
       "      <td>e5440</td>\n",
       "      <td>windows os</td>\n",
       "      <td>intel core i5 4th gen</td>\n",
       "      <td>1.9 ghz</td>\n",
       "      <td>4gb</td>\n",
       "      <td>...</td>\n",
       "      <td>500 gb</td>\n",
       "      <td>NaN</td>\n",
       "      <td>NaN</td>\n",
       "      <td>NaN</td>\n",
       "      <td>NaN</td>\n",
       "      <td>NaN</td>\n",
       "      <td>NaN</td>\n",
       "      <td>NaN</td>\n",
       "      <td>NaN</td>\n",
       "      <td>NaN</td>\n",
       "    </tr>\n",
       "    <tr>\n",
       "      <th>3</th>\n",
       "      <td>(certified refurbished) dell latitude e5470 14...</td>\n",
       "      <td>630.00</td>\n",
       "      <td>dell</td>\n",
       "      <td>1920 x 1080</td>\n",
       "      <td>14 inches</td>\n",
       "      <td>latitude e5470</td>\n",
       "      <td>windows os</td>\n",
       "      <td>NaN</td>\n",
       "      <td>NaN</td>\n",
       "      <td>8gb</td>\n",
       "      <td>...</td>\n",
       "      <td>NaN</td>\n",
       "      <td>NaN</td>\n",
       "      <td>NaN</td>\n",
       "      <td>NaN</td>\n",
       "      <td>NaN</td>\n",
       "      <td>NaN</td>\n",
       "      <td>NaN</td>\n",
       "      <td>NaN</td>\n",
       "      <td>NaN</td>\n",
       "      <td>NaN</td>\n",
       "    </tr>\n",
       "    <tr>\n",
       "      <th>4</th>\n",
       "      <td>(certified refurbished) dell latitude e6320 13...</td>\n",
       "      <td>225.00</td>\n",
       "      <td>dell</td>\n",
       "      <td>1366 x 768</td>\n",
       "      <td>13.3 inches</td>\n",
       "      <td>latitude e6320</td>\n",
       "      <td>windows os</td>\n",
       "      <td>intel core i5-2520m</td>\n",
       "      <td>2.5 ghz</td>\n",
       "      <td>4gb ddr3</td>\n",
       "      <td>...</td>\n",
       "      <td>NaN</td>\n",
       "      <td>NaN</td>\n",
       "      <td>NaN</td>\n",
       "      <td>NaN</td>\n",
       "      <td>NaN</td>\n",
       "      <td>NaN</td>\n",
       "      <td>NaN</td>\n",
       "      <td>NaN</td>\n",
       "      <td>NaN</td>\n",
       "      <td>NaN</td>\n",
       "    </tr>\n",
       "  </tbody>\n",
       "</table>\n",
       "<p>5 rows × 27 columns</p>\n",
       "</div>"
      ],
      "text/plain": [
       "                                               title     price  brand  \\\n",
       "0  (certified refurbished) acer travelmate p248-m...    450.00   acer   \n",
       "1  (certified refurbished) apple macbook pro 13.3...  1,230.00  apple   \n",
       "2  (certified refurbished) dell latitude e5440 co...    370.00   dell   \n",
       "3  (certified refurbished) dell latitude e5470 14...    630.00   dell   \n",
       "4  (certified refurbished) dell latitude e6320 13...    225.00   dell   \n",
       "\n",
       "    resolution  screen size              model operating system  \\\n",
       "0   1366 x 768    14 inches  travelmate p248-m       windows os   \n",
       "1  2560 x 1600  13.3 inches                NaN           mac os   \n",
       "2   1366 x 768    14 inches              e5440       windows os   \n",
       "3  1920 x 1080    14 inches     latitude e5470       windows os   \n",
       "4   1366 x 768  13.3 inches     latitude e6320       windows os   \n",
       "\n",
       "               processor processor speed        ram  ... storage color  \\\n",
       "0    intel core i5-6200u         2.3 ghz       8 gb  ...     NaN   NaN   \n",
       "1    intel core i5-4278u             NaN  16gb ddr3  ...     NaN   NaN   \n",
       "2  intel core i5 4th gen         1.9 ghz        4gb  ...  500 gb   NaN   \n",
       "3                    NaN             NaN        8gb  ...     NaN   NaN   \n",
       "4    intel core i5-2520m         2.5 ghz   4gb ddr3  ...     NaN   NaN   \n",
       "\n",
       "  product dimensions version package included  usb bt version product code  \\\n",
       "0                NaN     NaN              NaN  NaN        NaN          NaN   \n",
       "1                NaN     NaN              NaN  NaN        NaN          NaN   \n",
       "2                NaN     NaN              NaN  NaN        NaN          NaN   \n",
       "3                NaN     NaN              NaN  NaN        NaN          NaN   \n",
       "4                NaN     NaN              NaN  NaN        NaN          NaN   \n",
       "\n",
       "  chipset batteries  \n",
       "0     NaN       NaN  \n",
       "1     NaN       NaN  \n",
       "2     NaN       NaN  \n",
       "3     NaN       NaN  \n",
       "4     NaN       NaN  \n",
       "\n",
       "[5 rows x 27 columns]"
      ]
     },
     "execution_count": 49,
     "metadata": {},
     "output_type": "execute_result"
    }
   ],
   "source": [
    "df = pd.DataFrame.from_dict(items_dict, orient='index')\n",
    "df.head()"
   ]
  },
  {
   "cell_type": "code",
   "execution_count": null,
   "metadata": {},
   "outputs": [],
   "source": [
    "# other possible website to scrape: https://laptopfactoryoutlet.com.sg/product-category/laptops/used-refurbished-secondhand-laptops/"
   ]
  },
  {
   "cell_type": "code",
   "execution_count": 50,
   "metadata": {},
   "outputs": [
    {
     "name": "stdout",
     "output_type": "stream",
     "text": [
      "<class 'pandas.core.frame.DataFrame'>\n",
      "Int64Index: 83 entries, 0 to 82\n",
      "Data columns (total 27 columns):\n",
      " #   Column              Non-Null Count  Dtype \n",
      "---  ------              --------------  ----- \n",
      " 0   title               83 non-null     object\n",
      " 1   price               83 non-null     object\n",
      " 2   brand               83 non-null     object\n",
      " 3   resolution          82 non-null     object\n",
      " 4   screen size         83 non-null     object\n",
      " 5   model               56 non-null     object\n",
      " 6   operating system    83 non-null     object\n",
      " 7   processor           80 non-null     object\n",
      " 8   processor speed     70 non-null     object\n",
      " 9   ram                 77 non-null     object\n",
      " 10  warranty            80 non-null     object\n",
      " 11  link                83 non-null     object\n",
      " 12  description         83 non-null     object\n",
      " 13  screen type         34 non-null     object\n",
      " 14  special features    17 non-null     object\n",
      " 15  weight              29 non-null     object\n",
      " 16  os version          8 non-null      object\n",
      " 17  storage             25 non-null     object\n",
      " 18  color               13 non-null     object\n",
      " 19  product dimensions  8 non-null      object\n",
      " 20  version             12 non-null     object\n",
      " 21  package included    8 non-null      object\n",
      " 22  usb                 4 non-null      object\n",
      " 23  bt version          4 non-null      object\n",
      " 24  product code        7 non-null      object\n",
      " 25  chipset             3 non-null      object\n",
      " 26  batteries           2 non-null      object\n",
      "dtypes: object(27)\n",
      "memory usage: 18.2+ KB\n"
     ]
    }
   ],
   "source": [
    "df.info()"
   ]
  },
  {
   "cell_type": "code",
   "execution_count": 51,
   "metadata": {},
   "outputs": [],
   "source": [
    "# df.to_csv(\"CE9010_electronicscrazy_laptop.csv\")\n",
    "df.to_csv(\"CE9010_electronicscrazy_laptop_1.csv\")"
   ]
  },
  {
   "cell_type": "markdown",
   "metadata": {},
   "source": [
    "## After Webscraping - Data Cleaning"
   ]
  },
  {
   "cell_type": "code",
   "execution_count": 13,
   "metadata": {},
   "outputs": [],
   "source": [
    "# Read data directly\n",
    "# df = pd.read_csv('CE9010_electronicscrazy_laptop.csv')\n",
    "# df = pd.read_csv('CE9010_electronicscrazy_laptop_1.csv')\n",
    "df = pd.read_csv('CE9010_electronicscrazy_laptop_1_drop.csv')"
   ]
  },
  {
   "cell_type": "code",
   "execution_count": 56,
   "metadata": {},
   "outputs": [],
   "source": [
    "# df[\"resolution\"].unique().tolist()"
   ]
  },
  {
   "cell_type": "code",
   "execution_count": 55,
   "metadata": {},
   "outputs": [],
   "source": [
    "# df[\"processor\"].unique().tolist()"
   ]
  },
  {
   "cell_type": "code",
   "execution_count": 58,
   "metadata": {},
   "outputs": [
    {
     "data": {
      "text/plain": [
       "Index(['title', 'price', 'brand', 'resolution', 'screen size', 'model',\n",
       "       'operating system', 'processor', 'processor speed', 'ram', 'warranty',\n",
       "       'link', 'description', 'screen type', 'special features', 'weight',\n",
       "       'os version', 'storage', 'color', 'product dimensions', 'version',\n",
       "       'package included', 'usb', 'bt version', 'product code', 'chipset',\n",
       "       'batteries'],\n",
       "      dtype='object')"
      ]
     },
     "execution_count": 58,
     "metadata": {},
     "output_type": "execute_result"
    }
   ],
   "source": [
    "df.columns"
   ]
  },
  {
   "cell_type": "code",
   "execution_count": 6,
   "metadata": {},
   "outputs": [],
   "source": [
    "# df.drop(columns=['screen type', 'special features',\n",
    "#        'os version', 'color', 'product dimensions', 'version',\n",
    "#        'package included', 'usb', 'bt version', 'product code', 'chipset',\n",
    "#        'batteries'], inplace = True)\n",
    "df.to_csv('CE9010_electronicscrazy_laptop_1_drop.csv')"
   ]
  },
  {
   "cell_type": "code",
   "execution_count": 5,
   "metadata": {},
   "outputs": [],
   "source": [
    "df['screen size'] = df['screen size'].str.replace(' inches', '')\n",
    "df['warranty'] = df['warranty'].str.replace(' month', '')"
   ]
  },
  {
   "cell_type": "code",
   "execution_count": 90,
   "metadata": {},
   "outputs": [],
   "source": [
    "# df['weight'].str.split('([^A-Za-z]+)([A-Za-z]+)', expand = True)\n",
    "weight_all = df['weight'].str.split('([^A-Za-z]+)([A-Za-z]+)', expand = True)\n",
    "weight_all[1].fillna(weight_all[0], inplace = True)\n",
    "del weight_all[0]\n",
    "del weight_all[3]"
   ]
  },
  {
   "cell_type": "code",
   "execution_count": 91,
   "metadata": {},
   "outputs": [],
   "source": [
    "weight_all.to_csv('tryout.csv')"
   ]
  },
  {
   "cell_type": "code",
   "execution_count": 114,
   "metadata": {},
   "outputs": [
    {
     "data": {
      "text/html": [
       "<div>\n",
       "<style scoped>\n",
       "    .dataframe tbody tr th:only-of-type {\n",
       "        vertical-align: middle;\n",
       "    }\n",
       "\n",
       "    .dataframe tbody tr th {\n",
       "        vertical-align: top;\n",
       "    }\n",
       "\n",
       "    .dataframe thead th {\n",
       "        text-align: right;\n",
       "    }\n",
       "</style>\n",
       "<table border=\"1\" class=\"dataframe\">\n",
       "  <thead>\n",
       "    <tr style=\"text-align: right;\">\n",
       "      <th></th>\n",
       "      <th>weight</th>\n",
       "      <th>unit</th>\n",
       "    </tr>\n",
       "  </thead>\n",
       "  <tbody>\n",
       "    <tr>\n",
       "      <th>0</th>\n",
       "      <td>9999</td>\n",
       "      <td>NaN</td>\n",
       "    </tr>\n",
       "    <tr>\n",
       "      <th>1</th>\n",
       "      <td>9999</td>\n",
       "      <td>NaN</td>\n",
       "    </tr>\n",
       "    <tr>\n",
       "      <th>2</th>\n",
       "      <td>2.2</td>\n",
       "      <td>None</td>\n",
       "    </tr>\n",
       "    <tr>\n",
       "      <th>3</th>\n",
       "      <td>9999</td>\n",
       "      <td>NaN</td>\n",
       "    </tr>\n",
       "    <tr>\n",
       "      <th>4</th>\n",
       "      <td>9999</td>\n",
       "      <td>NaN</td>\n",
       "    </tr>\n",
       "    <tr>\n",
       "      <th>...</th>\n",
       "      <td>...</td>\n",
       "      <td>...</td>\n",
       "    </tr>\n",
       "    <tr>\n",
       "      <th>78</th>\n",
       "      <td>9999</td>\n",
       "      <td>NaN</td>\n",
       "    </tr>\n",
       "    <tr>\n",
       "      <th>79</th>\n",
       "      <td>2.2</td>\n",
       "      <td>kg</td>\n",
       "    </tr>\n",
       "    <tr>\n",
       "      <th>80</th>\n",
       "      <td>9999</td>\n",
       "      <td>NaN</td>\n",
       "    </tr>\n",
       "    <tr>\n",
       "      <th>81</th>\n",
       "      <td>1.39</td>\n",
       "      <td>None</td>\n",
       "    </tr>\n",
       "    <tr>\n",
       "      <th>82</th>\n",
       "      <td>9999</td>\n",
       "      <td>NaN</td>\n",
       "    </tr>\n",
       "  </tbody>\n",
       "</table>\n",
       "<p>83 rows × 2 columns</p>\n",
       "</div>"
      ],
      "text/plain": [
       "   weight  unit\n",
       "0    9999   NaN\n",
       "1    9999   NaN\n",
       "2     2.2  None\n",
       "3    9999   NaN\n",
       "4    9999   NaN\n",
       "..    ...   ...\n",
       "78   9999   NaN\n",
       "79   2.2     kg\n",
       "80   9999   NaN\n",
       "81   1.39  None\n",
       "82   9999   NaN\n",
       "\n",
       "[83 rows x 2 columns]"
      ]
     },
     "execution_count": 114,
     "metadata": {},
     "output_type": "execute_result"
    }
   ],
   "source": [
    "weight_all.columns = ['weight', 'unit']\n",
    "weight_all['weight'].fillna(9999, inplace = True)\n",
    "weight_all['weight'].astype('float')\n",
    "weight_all"
   ]
  },
  {
   "cell_type": "code",
   "execution_count": 14,
   "metadata": {},
   "outputs": [],
   "source": [
    "df['processor speed'] = df['processor speed'].str.replace(r'([A-Za-z]+)', '')"
   ]
  },
  {
   "cell_type": "code",
   "execution_count": 16,
   "metadata": {},
   "outputs": [
    {
     "data": {
      "text/plain": [
       "0            2.3 \n",
       "1             NaN\n",
       "2            1.9 \n",
       "3             NaN\n",
       "4            2.5 \n",
       "         ...     \n",
       "78           2.3 \n",
       "79           2.9 \n",
       "80    2.6   2.81 \n",
       "81    2.6   2.81 \n",
       "82           2.6 \n",
       "Name: processor speed, Length: 83, dtype: object"
      ]
     },
     "execution_count": 16,
     "metadata": {},
     "output_type": "execute_result"
    }
   ],
   "source": [
    "df['processor speed']"
   ]
  },
  {
   "cell_type": "code",
   "execution_count": 17,
   "metadata": {},
   "outputs": [],
   "source": [
    "df['ram'] = df['ram'].str.replace(r'([A-Za-z]+)', '')"
   ]
  },
  {
   "cell_type": "code",
   "execution_count": 18,
   "metadata": {},
   "outputs": [],
   "source": [
    "df['storage'] = df['storage'].str.replace(r'([A-Za-z]+)', '')"
   ]
  },
  {
   "cell_type": "code",
   "execution_count": 21,
   "metadata": {},
   "outputs": [],
   "source": [
    "df['weight'] = df['weight'].str.replace('4.9', '2.22')"
   ]
  },
  {
   "cell_type": "code",
   "execution_count": 22,
   "metadata": {},
   "outputs": [],
   "source": [
    "df['weight'] = df['weight'].str.replace(r'([A-Za-z]+)', '')"
   ]
  },
  {
   "cell_type": "code",
   "execution_count": 24,
   "metadata": {},
   "outputs": [
    {
     "data": {
      "text/plain": [
       "array(['1366 x 768', '2560 x 1600', '1920 x 1080', '1600 x 900',\n",
       "       '1280 x 1024', '3200 x 1800', '1440 x 900', nan], dtype=object)"
      ]
     },
     "execution_count": 24,
     "metadata": {},
     "output_type": "execute_result"
    }
   ],
   "source": [
    "df['resolution'].unique()"
   ]
  },
  {
   "cell_type": "code",
   "execution_count": 25,
   "metadata": {},
   "outputs": [],
   "source": [
    "resolution_dict = {'1366 x 768':'hd',\n",
    "                  '2560 x 1600': 'wqxga',\n",
    "                  '1920 x 1080': 'fhd',\n",
    "                  '1600 x 900': 'hd+',\n",
    "                  '1280 x 1024': 'sxga',\n",
    "                  '3200 x 1800': 'qhd+',\n",
    "                  '1440 x 900': 'wxga+'}\n",
    "df['resolution'] = df['resolution'].map(resolution_dict)"
   ]
  },
  {
   "cell_type": "code",
   "execution_count": 27,
   "metadata": {},
   "outputs": [],
   "source": [
    "df.to_csv('CE9010_electronicscrazy_laptop_clean.csv')"
   ]
  },
  {
   "cell_type": "code",
   "execution_count": 29,
   "metadata": {},
   "outputs": [],
   "source": [
    "df = pd.read_csv('CE9010_electronicscrazy_laptop_clean.csv')"
   ]
  },
  {
   "cell_type": "code",
   "execution_count": 30,
   "metadata": {},
   "outputs": [
    {
     "data": {
      "text/plain": [
       "'certified refurbished from ec and high quality\\neconomical price\\nsold and shipped from singapore (hence faster delivery, easy to exchange)\\n1 month warranty\\n\\nspecifications:\\nbrand: acer\\nmodel: travelmate p248-m\\ndisplay: 14-inch\\nprocessor/ chipset: intel core i5-6200u/ 2.30 ghz\\nmemory: 8gb ram\\nstorage: 480gb ssd\\noperating system: windows 10 pro\\nresolution: 1366 x 768 (hd)\\nlcd backlight technology: led backlight\\nwidescreen display: yes\\ninterfaces: usb 2.0, hdmi, vga, lan, 2 x usb 3.0, headphone/ microphone combo jack\\nmemory card reader: yes (sd card)\\n\\naudio & video:\\ngraphics processor: intel hd graphics 520\\nmemory allocation technology: shared video memory (uma)\\nintegrated webcam: yes\\nsound: microphone'"
      ]
     },
     "execution_count": 30,
     "metadata": {},
     "output_type": "execute_result"
    }
   ],
   "source": [
    "df['description'][0]"
   ]
  },
  {
   "cell_type": "code",
   "execution_count": 38,
   "metadata": {},
   "outputs": [],
   "source": [
    "df['try_ssd'] = df['description'].str.split('ssd', expand = True)[0]"
   ]
  },
  {
   "cell_type": "code",
   "execution_count": 52,
   "metadata": {},
   "outputs": [],
   "source": [
    "df['try_ssd'] = df['try_ssd'].str.replace('\\n', '')\n",
    "df['try_ssd'] = df['try_ssd'].str.split(' ').str[-1]"
   ]
  },
  {
   "cell_type": "code",
   "execution_count": 84,
   "metadata": {},
   "outputs": [],
   "source": [
    "df.to_csv('CE9010_electronicscrazy_laptop_clean_1.csv')"
   ]
  },
  {
   "cell_type": "code",
   "execution_count": 91,
   "metadata": {},
   "outputs": [],
   "source": [
    "df = pd.read_csv('CE9010_electronicscrazy_laptop_clean_1.csv')"
   ]
  },
  {
   "cell_type": "code",
   "execution_count": 77,
   "metadata": {},
   "outputs": [],
   "source": [
    "all_cols = df.columns.to_list()"
   ]
  },
  {
   "cell_type": "code",
   "execution_count": 78,
   "metadata": {},
   "outputs": [],
   "source": [
    "unique_dict = {}\n",
    "for col in all_cols:\n",
    "    unique_dict[col] = df[col].unique()\n",
    "#     print(col)\n",
    "unique_df = pd.DataFrame.from_dict(unique_dict, orient='index')"
   ]
  },
  {
   "cell_type": "code",
   "execution_count": 79,
   "metadata": {},
   "outputs": [],
   "source": [
    "# unique_df.T.to_excel('CE9010_unique.xlsx')"
   ]
  },
  {
   "cell_type": "code",
   "execution_count": 87,
   "metadata": {},
   "outputs": [],
   "source": [
    "df['graphic_card'] = df['graphic_card'].str.replace('graphics', '')"
   ]
  },
  {
   "cell_type": "code",
   "execution_count": 90,
   "metadata": {},
   "outputs": [],
   "source": [
    "df.to_csv('CE9010_electronicscrazy_laptop_clean_1.csv')"
   ]
  },
  {
   "cell_type": "code",
   "execution_count": 92,
   "metadata": {},
   "outputs": [],
   "source": [
    "df['graphic_card'] = df['graphic_card'].str.replace('  ', ' ')"
   ]
  },
  {
   "cell_type": "code",
   "execution_count": 93,
   "metadata": {},
   "outputs": [],
   "source": [
    "df.to_csv('CE9010_electronicscrazy_laptop_clean_1.csv')"
   ]
  },
  {
   "cell_type": "markdown",
   "metadata": {},
   "source": [
    "# More data cleaning"
   ]
  },
  {
   "cell_type": "code",
   "execution_count": null,
   "metadata": {},
   "outputs": [],
   "source": [
    "df1 = pd.read_csv('CE9010_electronicscrazy.csv')\n",
    "df2 = pd.read_csv('CE9010_ebay.csv')\n",
    "df3 = pd.read_csv('CE9010_lfol.csv')\n",
    "df4 = pd.read_csv('CE9010_reebelo.csv')\n",
    "df = pd.concat([df1,df2,df3,df4])\n",
    "# df.to_csv('CE9010_all_data.csv')\n",
    "# df.to_excel('CE9010_all_data_excel.xlsx')"
   ]
  },
  {
   "cell_type": "code",
   "execution_count": null,
   "metadata": {},
   "outputs": [],
   "source": [
    "df.info()"
   ]
  },
  {
   "cell_type": "code",
   "execution_count": null,
   "metadata": {},
   "outputs": [],
   "source": [
    "# buang yg level 1 model nya kosong\n",
    "# cari proceesor, processor speed manually\n",
    "# warranty: binary. 1: yes, 0: no\n",
    "# storage = hdd + ssd\n",
    "# hdd_exist = 1: yes, 0: no\n",
    "# ssd_exist = 1: yes, 0: no\n",
    "# assume graphic card not updated/taken off. \n",
    "# graphic_card_exist = 1: yes, 0: no\n",
    "# drop operating system, level_2_model, display, emmc_gb, flash_storage_gb, weight\n",
    "# resolution, screensize masukin satu2\n",
    "\n",
    "# df[df['hdd_gb'].notnull() & df['ssd_gb'].notnull()]\n",
    "# summary, yg perlu di google\n",
    "# processor: 17, \n",
    "# processor speed: 95, \n",
    "# ram: 31, \n",
    "# resolution: 60, \n",
    "# screen size: 25\n",
    "309-284"
   ]
  },
  {
   "cell_type": "code",
   "execution_count": null,
   "metadata": {},
   "outputs": [],
   "source": [
    "df_null = df[df['processor'].isnull() | df['processor_speed'].isnull() | df['ram'].isnull() | df['resolution'].isnull() | df['screen_size'].isnull()]\n",
    "df_null.to_excel('CE9010_DFNULL.xlsx')\n",
    "df_not_null = df[df['processor'].notnull() & df['processor_speed'].notnull() & df['ram'].notnull() & df['resolution'].notnull() & df['screen_size'].notnull()]\n",
    "df_not_null.to_csv('CE9010_DFNOTNULL.csv')\n",
    "df_null.to_csv('CE9010_DFNULL.csv')"
   ]
  },
  {
   "cell_type": "code",
   "execution_count": null,
   "metadata": {},
   "outputs": [],
   "source": [
    "df_null = pd.read_csv('CE9010_DFNULL_CLEANED.csv')\n",
    "df_not_null = pd.read_csv('CE9010_DFNOTNULL.csv')\n",
    "df = pd.concat([df_null,df_not_null])\n",
    "df.columns\n",
    "df.drop(['operating_system', 'level_2_model', 'display', 'emmc_gb', 'flash_storage_gb'], axis = 1, inplace = True)\n",
    "# okay warranty: binary. 1: yes, 0: no\n",
    "# storage = hdd + ssd\n",
    "# hdd_exist = 1: yes, 0: no\n",
    "# ssd_exist = 1: yes, 0: no\n",
    "# graphic_card_exist = 1: yes, 0: no\n",
    "df['warranty'] = df['warranty'].apply(lambda x: 0 if np.isnan(x) else 1)\n",
    "df['hdd_exist'] = df['hdd_gb'].apply(lambda x: 0 if np.isnan(x) else 1)\n",
    "df['ssd_exist'] = df['ssd_gb'].apply(lambda x: 0 if np.isnan(x) else 1)\n",
    "df['graphic_card_exist'] = df['graphic_card'].apply(lambda x: 0 if pd.isnull(x) else 1)\n",
    "df['storage'] = df['hdd_gb'].apply(lambda x: 0 if np.isnan(x) else x) + df['ssd_gb'].apply(lambda x: 0 if np.isnan(x) else x)\n",
    "# df.head()\n",
    "df.to_csv('CE9010_cleaned_data.csv')"
   ]
  }
 ],
 "metadata": {
  "kernelspec": {
   "display_name": "Python 3",
   "language": "python",
   "name": "python3"
  },
  "language_info": {
   "codemirror_mode": {
    "name": "ipython",
    "version": 3
   },
   "file_extension": ".py",
   "mimetype": "text/x-python",
   "name": "python",
   "nbconvert_exporter": "python",
   "pygments_lexer": "ipython3",
   "version": "3.7.6"
  }
 },
 "nbformat": 4,
 "nbformat_minor": 4
}
