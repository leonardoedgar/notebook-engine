{
 "cells": [
  {
   "cell_type": "markdown",
   "metadata": {
    "id": "ZbCGhkCl5sZR"
   },
   "source": [
    "# Lazada Webscraper"
   ]
  },
  {
   "cell_type": "code",
   "execution_count": null,
   "metadata": {
    "id": "eMjfeD0n5sZX"
   },
   "outputs": [],
   "source": [
    "from selenium import webdriver\n",
    "from selenium.webdriver.support.ui import WebDriverWait\n",
    "from selenium.webdriver.support import expected_conditions as EC\n",
    "from selenium.webdriver.common.keys import Keys\n",
    "from selenium.webdriver.common.by import By\n",
    "from selenium.webdriver.common.action_chains import ActionChains\n",
    "from selenium.webdriver.support.ui import Select\n",
    "import pandas as pd\n",
    "import os"
   ]
  },
  {
   "cell_type": "code",
   "execution_count": null,
   "metadata": {
    "id": "vxsiq2sW5sZY"
   },
   "outputs": [],
   "source": [
    "# Lazada example\n",
    "\n",
    "driver = webdriver.Chrome(executable_path=os.getenv(\"CHROMEDRIVER_PATH\"))\n",
    "driver.get('https://www.lazada.sg/')\n",
    "\n",
    "# Search for laptop\n",
    "search_bar = driver.find_element_by_id(\"q\")\n",
    "search_bar.send_keys(\"laptop\", Keys.ENTER)\n",
    "\n",
    "# Filter by USED items\n",
    "used_checkbox = driver.find_element_by_xpath(\"//span[contains(text(), 'USED')]\")\n",
    "used_checkbox.click()\n",
    "\n",
    "driver.quit()"
   ]
  },
  {
   "cell_type": "code",
   "execution_count": null,
   "metadata": {},
   "outputs": [],
   "source": [
    "# Supreme example\n",
    "\n",
    "# options = webdriver.ChromeOptions()\n",
    "# options.add_argument(\"--start-maximized\")\n",
    "\n",
    "# driver = webdriver.Chrome(chrome_options=options)\n",
    "# driver.get('https://www.supremenewyork.com/shop/all')\n",
    "\n",
    "# links = driver.find_elements_by_css_selector(\"[href*='/shop']\")\n",
    "# all_link_list = []\n",
    "\n",
    "# for link in links:\n",
    "#     all_link_list.append(link.get_attribute('href'))\n",
    "    \n",
    "# link_to_remove = ['https://www.supremenewyork.com/shop/cart',\n",
    "#  'https://www.supremenewyork.com/shop/all',\n",
    "#  'https://www.supremenewyork.com/shop/new',\n",
    "#  'https://www.supremenewyork.com/shop/all/jackets',\n",
    "#  'https://www.supremenewyork.com/shop/all/shirts',\n",
    "#  'https://www.supremenewyork.com/shop/all/tops_sweaters',\n",
    "#  'https://www.supremenewyork.com/shop/all/sweatshirts',\n",
    "#  'https://www.supremenewyork.com/shop/all/pants',\n",
    "#  'https://www.supremenewyork.com/shop/all/hats',\n",
    "#  'https://www.supremenewyork.com/shop/all/bags',\n",
    "#  'https://www.supremenewyork.com/shop/all/accessories',\n",
    "#  'https://www.supremenewyork.com/shop/all/skate','https://www.supremenewyork.com/shop',\n",
    "#  'http://www.supremenewyork.com/shop',\n",
    "#  'http://www.supremenewyork.com/shop/all',\n",
    "#  'http://www.supremenewyork.com/shop/sizing',\n",
    "#  'http://www.supremenewyork.com/shop/terms',\n",
    "#  'http://www.supremenewyork.com/shop/privacy',\n",
    "#  'http://www.supremenewyork.com/shop/policy',\n",
    "#  'http://www.supremenewyork.com/shop/faq']\n",
    "\n",
    "# driver.quit()\n",
    "\n",
    "# items_link = [x for x in all_link_list if x not in link_to_remove]\n",
    "# items_dict = {}\n",
    "\n",
    "# for i in range(len(items_link)):\n",
    "#     driver = webdriver.Chrome(chrome_options=options)\n",
    "#     driver.get(items_link[i])\n",
    "    \n",
    "#     item_name = driver.find_element_by_xpath('//*[@id=\"details\"]/h1').text\n",
    "#     item_price = driver.find_element_by_xpath('//*[@id=\"details\"]/p[3]/span').text\n",
    "#     item_price = item_price[1:]\n",
    "#     image_link = driver.find_element_by_xpath('//*[@id=\"img-main\"]')\n",
    "#     image_link = image_link.get_attribute('src')\n",
    "    \n",
    "#     items_dict.update({i: [item_name, items_link[i], image_link, item_price]})\n",
    "#     driver.quit()\n",
    "    \n",
    "# df = pd.DataFrame.from_dict(items_dict, orient='index', columns = ('Name', 'Product Link', 'Image Link', 'Price (in JPY)'))\n",
    "# df.to_excel('supreme_items.xlsx')"
   ]
  }
 ],
 "metadata": {
  "colab": {
   "name": "Supreme Webscraper.ipynb",
   "provenance": []
  },
  "kernelspec": {
   "display_name": "Python 3",
   "language": "python",
   "name": "python3"
  },
  "language_info": {
   "codemirror_mode": {
    "name": "ipython",
    "version": 3
   },
   "file_extension": ".py",
   "mimetype": "text/x-python",
   "name": "python",
   "nbconvert_exporter": "python",
   "pygments_lexer": "ipython3",
   "version": "3.6.12"
  }
 },
 "nbformat": 4,
 "nbformat_minor": 1
}
